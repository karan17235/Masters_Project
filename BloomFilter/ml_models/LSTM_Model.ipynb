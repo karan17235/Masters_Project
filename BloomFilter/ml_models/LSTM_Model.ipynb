{
 "cells": [
  {
   "cell_type": "code",
   "execution_count": 1,
   "metadata": {},
   "outputs": [],
   "source": [
    "from __future__ import print_function\n",
    "# Importing required pythin libraries\n",
    "import json\n",
    "import random\n",
    "import numpy as np\n",
    "import math\n",
    "import datetime\n",
    "from collections import Counter\n",
    "\n",
    "# Importing required libraries from Scikit-learn\n",
    "from sklearn.decomposition import PCA\n",
    "from sklearn.model_selection import train_test_split\n",
    "\n",
    "# Importing required libraries from keras+tensorflow\n",
    "import tensorflow as tf\n",
    "from tensorflow import keras\n",
    "from tensorflow.python.keras import backend as K"
   ]
  },
  {
   "cell_type": "code",
   "execution_count": 2,
   "metadata": {},
   "outputs": [
    {
     "data": {
      "text/plain": [
       "42"
      ]
     },
     "execution_count": 2,
     "metadata": {},
     "output_type": "execute_result"
    }
   ],
   "source": [
    "import gc\n",
    "gc.collect()"
   ]
  },
  {
   "cell_type": "code",
   "execution_count": 3,
   "metadata": {},
   "outputs": [],
   "source": [
    "K.clear_session()\n",
    "tf.compat.v1.reset_default_graph()"
   ]
  },
  {
   "cell_type": "code",
   "execution_count": 4,
   "metadata": {},
   "outputs": [],
   "source": [
    "def data():\n",
    "    maxlen = 50\n",
    "    embedding_size = 50\n",
    "    pca_embedding_dim = 16\n",
    "    \n",
    "    # importing the glove embeddings path \n",
    "    embeddings_path = '../data/glove.6B.50d-char.txt'\n",
    "    \n",
    "    # Indexing character vectors using glove word vectors\n",
    "    embedding_vectors = {}\n",
    "    with open(embeddings_path, 'r') as f:\n",
    "        for line in f:\n",
    "            line_split = line.strip().split(\" \")\n",
    "            vec = np.array(line_split[1:], dtype=float)\n",
    "            char = line_split[0]\n",
    "            embedding_vectors[char] = vec\n",
    "    print('Found %s char vectors.' % len(embedding_vectors))\n",
    "    \n",
    "    # loading the dataset\n",
    "    with open('../data/dataset.json', 'r') as f:\n",
    "        dataset = json.load(f)\n",
    "        positives = dataset['positives']\n",
    "        negatives = dataset['negatives']\n",
    "    \n",
    "    # dividing the dataset to make small models\n",
    "    data_fraction = 1\n",
    "    positives = positives[:int(data_fraction * len(positives))]\n",
    "    negatives = negatives[:int(data_fraction * len(negatives))]\n",
    "    \n",
    "    # Dividing the negatives dataset between train, dev and test\n",
    "    negatives_train = negatives[0: int(len(negatives) * .8)]\n",
    "    negatives_dev = negatives[int(len(negatives) * .8): int(len(negatives) * .9)]\n",
    "    negatives_test = negatives[int(len(negatives) * .9): ]\n",
    "    print(\"Split sizes:\")\n",
    "    print(len(positives), len(negatives_train), len(negatives_dev), len(negatives_test))\n",
    "    \n",
    "    # Shuffling the data\n",
    "    a = [(i, 0) for i in negatives_train]\n",
    "    b = [(i, 1) for i in positives]\n",
    "    combined = a + b\n",
    "    random.shuffle(combined)\n",
    "    shuffled = list(zip(*combined))\n",
    "    text_X = shuffled[0]\n",
    "    labels = shuffled[1]\n",
    "    \n",
    "    # tokenizing the input url's\n",
    "    tk = keras.preprocessing.text.Tokenizer(char_level=True)\n",
    "    tk.fit_on_texts(text_X)\n",
    "    \n",
    "    # List the vocabulary\n",
    "    word_index = tk.word_index\n",
    "    vocab_size = len(word_index) + 1\n",
    "#     print(vocab_size)\n",
    "#     print(word_index)\n",
    "    \n",
    "    # integer encode the documents\n",
    "    sequences = tk.texts_to_sequences(text_X)\n",
    "#     print(text_X[0])\n",
    "#     print(sequences[0])\n",
    "    \n",
    "    # pad documents to a max length of 4 words\n",
    "    data = keras.preprocessing.sequence.pad_sequences(sequences, maxlen=maxlen) # by default the padding is post.\n",
    "    labels = np.asarray(labels)\n",
    "#     print('Shape of data tensor:', data.shape)\n",
    "#     print('Shape of label tensor:', labels.shape)\n",
    "    \n",
    "    # Dividing the dataset into train and test.\n",
    "    X_train, X_test, y_train, y_test = train_test_split(data, labels, test_size=0.2, random_state=42)\n",
    "    print(len(X_test))\n",
    "    # split the training data into a training set and a validation set\n",
    "    X_train, X_val, y_train, y_val = train_test_split(X_train, y_train, test_size=0.1, random_state=42)\n",
    "    print(len(X_train))\n",
    "    print(len(X_val))\n",
    "    \n",
    "    # create a weight matrix for words in training docs\n",
    "    print('Preparing embedding matrix.')\n",
    "    embedding_matrix = np.zeros((vocab_size, embedding_size))\n",
    "    for char, i in word_index.items():\n",
    "        embedding_vector = embedding_vectors.get(char)\n",
    "        if embedding_vector is not None:\n",
    "            embedding_matrix[i] = embedding_vector\n",
    "    print(embedding_matrix.shape)\n",
    "    \n",
    "    # PCA Embedding dimension\n",
    "    pca = PCA(n_components = pca_embedding_dim)\n",
    "    pca.fit(embedding_matrix[1:])\n",
    "    embedding_matrix_pca = np.array(pca.transform(embedding_matrix[1:]))\n",
    "    embedding_matrix_pca = np.insert(embedding_matrix_pca, 0, 0, axis=0)\n",
    "    print(\"PCA matrix created\")\n",
    "    \n",
    "    return (X_train, X_test, y_train, y_test, X_val, y_val, embedding_matrix, maxlen, vocab_size, word_index,\n",
    "            positives, negatives_train, negatives_dev, negatives_test)"
   ]
  },
  {
   "cell_type": "markdown",
   "metadata": {},
   "source": [
    "### Defining LSTM Model\n",
    "\n",
    "The model is defined using one embedding layer, a combination of one or more LSTM layers and joinining them with \n",
    "Dense layers. "
   ]
  },
  {
   "cell_type": "code",
   "execution_count": 5,
   "metadata": {},
   "outputs": [],
   "source": [
    "def create_model(embedding_matrix, vocab_size, maxlen):\n",
    "    model = keras.Sequential([\n",
    "            keras.layers.Embedding(vocab_size, 50, input_length=maxlen, weights=[embedding_matrix]),\n",
    "#             keras.layers.GRU(16, dropout=0.1, kernel_regularizer=keras.regularizers.l2(1e-4)),\n",
    "            keras.layers.LSTM(24, dropout = 0.2, return_sequences=False),\n",
    "            keras.layers.Dense(10, activation='relu'),\n",
    "            keras.layers.Dense(1, activation = 'sigmoid')\n",
    "    ])\n",
    "\n",
    "    optimizer = keras.optimizers.Adam(lr = 0.001, decay = 0.0001)\n",
    "    model.compile(optimizer=optimizer, loss='binary_crossentropy', metrics=['accuracy'])\n",
    "    earlyStopping = keras.callbacks.EarlyStopping(monitor='val_loss', patience=5, verbose=1, min_delta = 0.001)\n",
    "    file_path = '../model_weights/keras_weights_GRU_full_dataset_without_pca.hdf5'\n",
    "    checkpoint = keras.callbacks.ModelCheckpoint(filepath=file_path, verbose=1, save_best_only=True)\n",
    "    callbacks_list = [earlyStopping, checkpoint]\n",
    "    print(model.summary())\n",
    "    return model, callbacks_list"
   ]
  },
  {
   "cell_type": "code",
   "execution_count": 6,
   "metadata": {},
   "outputs": [
    {
     "name": "stdout",
     "output_type": "stream",
     "text": [
      "Found 68 char vectors.\n",
      "Split sizes:\n",
      "1491178 1148421 143553 143553\n",
      "527920\n",
      "1900511\n",
      "211168\n",
      "Preparing embedding matrix.\n",
      "(39, 50)\n",
      "PCA matrix created\n",
      "Data Preprocessing time: 0:01:12.791936\n"
     ]
    }
   ],
   "source": [
    "before_dataset = datetime.datetime.now()\n",
    "(X_train, X_test, y_train, y_test, X_val, y_val, embedding_matrix, maxlen, vocab_size, word_index,\n",
    "    positives, negatives_train, negatives_dev, negatives_test) = data()\n",
    "after_dataset = datetime.datetime.now()\n",
    "delta_dataset = after_dataset - before_dataset\n",
    "print(\"Data Preprocessing time:\", delta_dataset)"
   ]
  },
  {
   "cell_type": "code",
   "execution_count": 7,
   "metadata": {
    "scrolled": false
   },
   "outputs": [
    {
     "name": "stdout",
     "output_type": "stream",
     "text": [
      "Model: \"sequential\"\n",
      "_________________________________________________________________\n",
      "Layer (type)                 Output Shape              Param #   \n",
      "=================================================================\n",
      "embedding (Embedding)        (None, 50, 50)            1950      \n",
      "_________________________________________________________________\n",
      "lstm (LSTM)                  (None, 24)                7200      \n",
      "_________________________________________________________________\n",
      "dense (Dense)                (None, 10)                250       \n",
      "_________________________________________________________________\n",
      "dense_1 (Dense)              (None, 1)                 11        \n",
      "=================================================================\n",
      "Total params: 9,411\n",
      "Trainable params: 9,411\n",
      "Non-trainable params: 0\n",
      "_________________________________________________________________\n",
      "None\n",
      "Epoch 1/50\n",
      "\n",
      "Epoch 00001: val_loss improved from inf to 0.50920, saving model to ../model_weights/keras_weights_GRU_full_dataset_without_pca.hdf5\n",
      "464/464 - 108s - loss: 0.5604 - accuracy: 0.6847 - val_loss: 0.5092 - val_accuracy: 0.7257\n",
      "Epoch 2/50\n",
      "\n",
      "Epoch 00002: val_loss improved from 0.50920 to 0.46968, saving model to ../model_weights/keras_weights_GRU_full_dataset_without_pca.hdf5\n",
      "464/464 - 106s - loss: 0.4975 - accuracy: 0.7335 - val_loss: 0.4697 - val_accuracy: 0.7547\n",
      "Epoch 3/50\n",
      "\n",
      "Epoch 00003: val_loss improved from 0.46968 to 0.43506, saving model to ../model_weights/keras_weights_GRU_full_dataset_without_pca.hdf5\n",
      "464/464 - 106s - loss: 0.4622 - accuracy: 0.7603 - val_loss: 0.4351 - val_accuracy: 0.7790\n",
      "Epoch 4/50\n",
      "\n",
      "Epoch 00004: val_loss improved from 0.43506 to 0.40310, saving model to ../model_weights/keras_weights_GRU_full_dataset_without_pca.hdf5\n",
      "464/464 - 104s - loss: 0.4322 - accuracy: 0.7815 - val_loss: 0.4031 - val_accuracy: 0.8010\n",
      "Epoch 5/50\n",
      "\n",
      "Epoch 00005: val_loss improved from 0.40310 to 0.38822, saving model to ../model_weights/keras_weights_GRU_full_dataset_without_pca.hdf5\n",
      "464/464 - 103s - loss: 0.4135 - accuracy: 0.7945 - val_loss: 0.3882 - val_accuracy: 0.8108\n",
      "Epoch 6/50\n",
      "\n",
      "Epoch 00006: val_loss improved from 0.38822 to 0.37756, saving model to ../model_weights/keras_weights_GRU_full_dataset_without_pca.hdf5\n",
      "464/464 - 103s - loss: 0.4011 - accuracy: 0.8032 - val_loss: 0.3776 - val_accuracy: 0.8175\n",
      "Epoch 7/50\n",
      "\n",
      "Epoch 00007: val_loss improved from 0.37756 to 0.36983, saving model to ../model_weights/keras_weights_GRU_full_dataset_without_pca.hdf5\n",
      "464/464 - 103s - loss: 0.3919 - accuracy: 0.8096 - val_loss: 0.3698 - val_accuracy: 0.8234\n",
      "Epoch 8/50\n",
      "\n",
      "Epoch 00008: val_loss improved from 0.36983 to 0.36032, saving model to ../model_weights/keras_weights_GRU_full_dataset_without_pca.hdf5\n",
      "464/464 - 101s - loss: 0.3841 - accuracy: 0.8144 - val_loss: 0.3603 - val_accuracy: 0.8289\n",
      "Epoch 9/50\n",
      "\n",
      "Epoch 00009: val_loss improved from 0.36032 to 0.35431, saving model to ../model_weights/keras_weights_GRU_full_dataset_without_pca.hdf5\n",
      "464/464 - 102s - loss: 0.3775 - accuracy: 0.8187 - val_loss: 0.3543 - val_accuracy: 0.8319\n",
      "Epoch 10/50\n",
      "\n",
      "Epoch 00010: val_loss improved from 0.35431 to 0.34880, saving model to ../model_weights/keras_weights_GRU_full_dataset_without_pca.hdf5\n",
      "464/464 - 101s - loss: 0.3722 - accuracy: 0.8220 - val_loss: 0.3488 - val_accuracy: 0.8352\n",
      "Epoch 11/50\n",
      "\n",
      "Epoch 00011: val_loss improved from 0.34880 to 0.34487, saving model to ../model_weights/keras_weights_GRU_full_dataset_without_pca.hdf5\n",
      "464/464 - 101s - loss: 0.3675 - accuracy: 0.8251 - val_loss: 0.3449 - val_accuracy: 0.8375\n",
      "Epoch 12/50\n",
      "\n",
      "Epoch 00012: val_loss improved from 0.34487 to 0.34040, saving model to ../model_weights/keras_weights_GRU_full_dataset_without_pca.hdf5\n",
      "464/464 - 102s - loss: 0.3639 - accuracy: 0.8271 - val_loss: 0.3404 - val_accuracy: 0.8404\n",
      "Epoch 13/50\n",
      "\n",
      "Epoch 00013: val_loss improved from 0.34040 to 0.33847, saving model to ../model_weights/keras_weights_GRU_full_dataset_without_pca.hdf5\n",
      "464/464 - 103s - loss: 0.3599 - accuracy: 0.8295 - val_loss: 0.3385 - val_accuracy: 0.8413\n",
      "Epoch 14/50\n",
      "\n",
      "Epoch 00014: val_loss improved from 0.33847 to 0.33367, saving model to ../model_weights/keras_weights_GRU_full_dataset_without_pca.hdf5\n",
      "464/464 - 100s - loss: 0.3565 - accuracy: 0.8317 - val_loss: 0.3337 - val_accuracy: 0.8443\n",
      "Epoch 15/50\n",
      "\n",
      "Epoch 00015: val_loss improved from 0.33367 to 0.33200, saving model to ../model_weights/keras_weights_GRU_full_dataset_without_pca.hdf5\n",
      "464/464 - 100s - loss: 0.3538 - accuracy: 0.8332 - val_loss: 0.3320 - val_accuracy: 0.8453\n",
      "Epoch 16/50\n",
      "\n",
      "Epoch 00016: val_loss improved from 0.33200 to 0.32834, saving model to ../model_weights/keras_weights_GRU_full_dataset_without_pca.hdf5\n",
      "464/464 - 100s - loss: 0.3512 - accuracy: 0.8351 - val_loss: 0.3283 - val_accuracy: 0.8473\n",
      "Epoch 17/50\n",
      "\n",
      "Epoch 00017: val_loss improved from 0.32834 to 0.32686, saving model to ../model_weights/keras_weights_GRU_full_dataset_without_pca.hdf5\n",
      "464/464 - 99s - loss: 0.3490 - accuracy: 0.8360 - val_loss: 0.3269 - val_accuracy: 0.8482\n",
      "Epoch 18/50\n",
      "\n",
      "Epoch 00018: val_loss improved from 0.32686 to 0.32456, saving model to ../model_weights/keras_weights_GRU_full_dataset_without_pca.hdf5\n",
      "464/464 - 100s - loss: 0.3471 - accuracy: 0.8374 - val_loss: 0.3246 - val_accuracy: 0.8496\n",
      "Epoch 19/50\n",
      "\n",
      "Epoch 00019: val_loss improved from 0.32456 to 0.32218, saving model to ../model_weights/keras_weights_GRU_full_dataset_without_pca.hdf5\n",
      "464/464 - 98s - loss: 0.3445 - accuracy: 0.8388 - val_loss: 0.3222 - val_accuracy: 0.8513\n",
      "Epoch 20/50\n",
      "\n",
      "Epoch 00020: val_loss improved from 0.32218 to 0.32044, saving model to ../model_weights/keras_weights_GRU_full_dataset_without_pca.hdf5\n",
      "464/464 - 96s - loss: 0.3430 - accuracy: 0.8399 - val_loss: 0.3204 - val_accuracy: 0.8522\n",
      "Epoch 21/50\n",
      "\n",
      "Epoch 00021: val_loss improved from 0.32044 to 0.31887, saving model to ../model_weights/keras_weights_GRU_full_dataset_without_pca.hdf5\n",
      "464/464 - 98s - loss: 0.3411 - accuracy: 0.8410 - val_loss: 0.3189 - val_accuracy: 0.8532\n",
      "Epoch 22/50\n",
      "\n",
      "Epoch 00022: val_loss did not improve from 0.31887\n",
      "464/464 - 97s - loss: 0.3394 - accuracy: 0.8419 - val_loss: 0.3192 - val_accuracy: 0.8527\n",
      "Epoch 23/50\n",
      "\n",
      "Epoch 00023: val_loss improved from 0.31887 to 0.31618, saving model to ../model_weights/keras_weights_GRU_full_dataset_without_pca.hdf5\n",
      "464/464 - 96s - loss: 0.3378 - accuracy: 0.8428 - val_loss: 0.3162 - val_accuracy: 0.8544\n",
      "Epoch 24/50\n",
      "\n",
      "Epoch 00024: val_loss improved from 0.31618 to 0.31435, saving model to ../model_weights/keras_weights_GRU_full_dataset_without_pca.hdf5\n",
      "464/464 - 97s - loss: 0.3365 - accuracy: 0.8436 - val_loss: 0.3143 - val_accuracy: 0.8558\n",
      "Epoch 25/50\n",
      "\n",
      "Epoch 00025: val_loss improved from 0.31435 to 0.31327, saving model to ../model_weights/keras_weights_GRU_full_dataset_without_pca.hdf5\n",
      "464/464 - 96s - loss: 0.3354 - accuracy: 0.8444 - val_loss: 0.3133 - val_accuracy: 0.8565\n",
      "Epoch 26/50\n",
      "\n",
      "Epoch 00026: val_loss improved from 0.31327 to 0.31194, saving model to ../model_weights/keras_weights_GRU_full_dataset_without_pca.hdf5\n",
      "464/464 - 96s - loss: 0.3339 - accuracy: 0.8451 - val_loss: 0.3119 - val_accuracy: 0.8574\n",
      "Epoch 27/50\n",
      "\n",
      "Epoch 00027: val_loss improved from 0.31194 to 0.31093, saving model to ../model_weights/keras_weights_GRU_full_dataset_without_pca.hdf5\n",
      "464/464 - 96s - loss: 0.3327 - accuracy: 0.8460 - val_loss: 0.3109 - val_accuracy: 0.8580\n",
      "Epoch 28/50\n",
      "\n",
      "Epoch 00028: val_loss improved from 0.31093 to 0.30957, saving model to ../model_weights/keras_weights_GRU_full_dataset_without_pca.hdf5\n",
      "464/464 - 97s - loss: 0.3314 - accuracy: 0.8467 - val_loss: 0.3096 - val_accuracy: 0.8586\n",
      "Epoch 29/50\n",
      "\n",
      "Epoch 00029: val_loss improved from 0.30957 to 0.30938, saving model to ../model_weights/keras_weights_GRU_full_dataset_without_pca.hdf5\n",
      "464/464 - 97s - loss: 0.3307 - accuracy: 0.8470 - val_loss: 0.3094 - val_accuracy: 0.8589\n",
      "Epoch 30/50\n",
      "\n",
      "Epoch 00030: val_loss improved from 0.30938 to 0.30809, saving model to ../model_weights/keras_weights_GRU_full_dataset_without_pca.hdf5\n",
      "464/464 - 97s - loss: 0.3296 - accuracy: 0.8477 - val_loss: 0.3081 - val_accuracy: 0.8596\n",
      "Epoch 31/50\n",
      "\n",
      "Epoch 00031: val_loss improved from 0.30809 to 0.30691, saving model to ../model_weights/keras_weights_GRU_full_dataset_without_pca.hdf5\n",
      "464/464 - 97s - loss: 0.3289 - accuracy: 0.8483 - val_loss: 0.3069 - val_accuracy: 0.8603\n"
     ]
    },
    {
     "name": "stdout",
     "output_type": "stream",
     "text": [
      "Epoch 32/50\n",
      "\n",
      "Epoch 00032: val_loss improved from 0.30691 to 0.30625, saving model to ../model_weights/keras_weights_GRU_full_dataset_without_pca.hdf5\n",
      "464/464 - 97s - loss: 0.3278 - accuracy: 0.8490 - val_loss: 0.3063 - val_accuracy: 0.8603\n",
      "Epoch 33/50\n",
      "\n",
      "Epoch 00033: val_loss improved from 0.30625 to 0.30521, saving model to ../model_weights/keras_weights_GRU_full_dataset_without_pca.hdf5\n",
      "464/464 - 98s - loss: 0.3270 - accuracy: 0.8493 - val_loss: 0.3052 - val_accuracy: 0.8614\n",
      "Epoch 34/50\n",
      "\n",
      "Epoch 00034: val_loss improved from 0.30521 to 0.30459, saving model to ../model_weights/keras_weights_GRU_full_dataset_without_pca.hdf5\n",
      "464/464 - 97s - loss: 0.3261 - accuracy: 0.8499 - val_loss: 0.3046 - val_accuracy: 0.8615\n",
      "Epoch 35/50\n",
      "\n",
      "Epoch 00035: val_loss improved from 0.30459 to 0.30426, saving model to ../model_weights/keras_weights_GRU_full_dataset_without_pca.hdf5\n",
      "464/464 - 98s - loss: 0.3254 - accuracy: 0.8501 - val_loss: 0.3043 - val_accuracy: 0.8618\n",
      "Epoch 36/50\n",
      "\n",
      "Epoch 00036: val_loss improved from 0.30426 to 0.30304, saving model to ../model_weights/keras_weights_GRU_full_dataset_without_pca.hdf5\n",
      "464/464 - 97s - loss: 0.3243 - accuracy: 0.8510 - val_loss: 0.3030 - val_accuracy: 0.8621\n",
      "Epoch 37/50\n",
      "\n",
      "Epoch 00037: val_loss improved from 0.30304 to 0.30264, saving model to ../model_weights/keras_weights_GRU_full_dataset_without_pca.hdf5\n",
      "464/464 - 98s - loss: 0.3237 - accuracy: 0.8511 - val_loss: 0.3026 - val_accuracy: 0.8626\n",
      "Epoch 38/50\n",
      "\n",
      "Epoch 00038: val_loss improved from 0.30264 to 0.30170, saving model to ../model_weights/keras_weights_GRU_full_dataset_without_pca.hdf5\n",
      "464/464 - 98s - loss: 0.3232 - accuracy: 0.8516 - val_loss: 0.3017 - val_accuracy: 0.8629\n",
      "Epoch 39/50\n",
      "\n",
      "Epoch 00039: val_loss improved from 0.30170 to 0.30096, saving model to ../model_weights/keras_weights_GRU_full_dataset_without_pca.hdf5\n",
      "464/464 - 97s - loss: 0.3226 - accuracy: 0.8518 - val_loss: 0.3010 - val_accuracy: 0.8634\n",
      "Epoch 40/50\n",
      "\n",
      "Epoch 00040: val_loss improved from 0.30096 to 0.30086, saving model to ../model_weights/keras_weights_GRU_full_dataset_without_pca.hdf5\n",
      "464/464 - 96s - loss: 0.3214 - accuracy: 0.8527 - val_loss: 0.3009 - val_accuracy: 0.8634\n",
      "Epoch 41/50\n",
      "\n",
      "Epoch 00041: val_loss improved from 0.30086 to 0.29990, saving model to ../model_weights/keras_weights_GRU_full_dataset_without_pca.hdf5\n",
      "464/464 - 96s - loss: 0.3210 - accuracy: 0.8529 - val_loss: 0.2999 - val_accuracy: 0.8643\n",
      "Epoch 42/50\n",
      "\n",
      "Epoch 00042: val_loss improved from 0.29990 to 0.29927, saving model to ../model_weights/keras_weights_GRU_full_dataset_without_pca.hdf5\n",
      "464/464 - 96s - loss: 0.3206 - accuracy: 0.8531 - val_loss: 0.2993 - val_accuracy: 0.8647\n",
      "Epoch 43/50\n",
      "\n",
      "Epoch 00043: val_loss improved from 0.29927 to 0.29897, saving model to ../model_weights/keras_weights_GRU_full_dataset_without_pca.hdf5\n",
      "464/464 - 98s - loss: 0.3199 - accuracy: 0.8536 - val_loss: 0.2990 - val_accuracy: 0.8646\n",
      "Epoch 44/50\n",
      "\n",
      "Epoch 00044: val_loss improved from 0.29897 to 0.29831, saving model to ../model_weights/keras_weights_GRU_full_dataset_without_pca.hdf5\n",
      "464/464 - 96s - loss: 0.3196 - accuracy: 0.8537 - val_loss: 0.2983 - val_accuracy: 0.8651\n",
      "Epoch 45/50\n",
      "\n",
      "Epoch 00045: val_loss improved from 0.29831 to 0.29760, saving model to ../model_weights/keras_weights_GRU_full_dataset_without_pca.hdf5\n",
      "464/464 - 97s - loss: 0.3191 - accuracy: 0.8540 - val_loss: 0.2976 - val_accuracy: 0.8653\n",
      "Epoch 46/50\n",
      "\n",
      "Epoch 00046: val_loss did not improve from 0.29760\n",
      "464/464 - 98s - loss: 0.3184 - accuracy: 0.8544 - val_loss: 0.2976 - val_accuracy: 0.8656\n",
      "Epoch 47/50\n",
      "\n",
      "Epoch 00047: val_loss improved from 0.29760 to 0.29720, saving model to ../model_weights/keras_weights_GRU_full_dataset_without_pca.hdf5\n",
      "464/464 - 98s - loss: 0.3176 - accuracy: 0.8548 - val_loss: 0.2972 - val_accuracy: 0.8658\n",
      "Epoch 48/50\n",
      "\n",
      "Epoch 00048: val_loss improved from 0.29720 to 0.29655, saving model to ../model_weights/keras_weights_GRU_full_dataset_without_pca.hdf5\n",
      "464/464 - 97s - loss: 0.3174 - accuracy: 0.8551 - val_loss: 0.2965 - val_accuracy: 0.8658\n",
      "Epoch 49/50\n",
      "\n",
      "Epoch 00049: val_loss did not improve from 0.29655\n",
      "464/464 - 97s - loss: 0.3167 - accuracy: 0.8552 - val_loss: 0.2967 - val_accuracy: 0.8658\n",
      "Epoch 50/50\n",
      "\n",
      "Epoch 00050: val_loss improved from 0.29655 to 0.29578, saving model to ../model_weights/keras_weights_GRU_full_dataset_without_pca.hdf5\n",
      "464/464 - 96s - loss: 0.3165 - accuracy: 0.8554 - val_loss: 0.2958 - val_accuracy: 0.8662\n",
      "Model training time: 1:22:37.957220\n"
     ]
    }
   ],
   "source": [
    "training_start = datetime.datetime.now()\n",
    "model, callbacks_list = create_model(embedding_matrix, vocab_size, maxlen)\n",
    "history = model.fit(X_train, y_train, batch_size = 4096, epochs = 50, verbose=2, \n",
    "          validation_data=(X_val, y_val), callbacks = callbacks_list)\n",
    "training_stop = datetime.datetime.now()\n",
    "delta_training = training_stop - training_start\n",
    "print(\"Model training time:\", delta_training)"
   ]
  },
  {
   "cell_type": "markdown",
   "metadata": {},
   "source": [
    "### Plotting graphs for each epoch"
   ]
  },
  {
   "cell_type": "code",
   "execution_count": 14,
   "metadata": {},
   "outputs": [
    {
     "data": {
      "image/png": "[encoded data removed]",
      "text/plain": [
       "<Figure size 432x288 with 1 Axes>"
      ]
     },
     "metadata": {
      "needs_background": "light"
     },
     "output_type": "display_data"
    }
   ],
   "source": [
    "# plot training history\n",
    "import matplotlib.pyplot as plt\n",
    "\n",
    "# summarize history for accuracy\n",
    "plt.plot(history.history['accuracy'])\n",
    "plt.plot(history.history['val_accuracy'])\n",
    "plt.title('model accuracy')\n",
    "plt.ylabel('accuracy')\n",
    "plt.xlabel('epoch')\n",
    "plt.legend(['train', 'test'], loc='upper left')\n",
    "plt.show()"
   ]
  },
  {
   "cell_type": "code",
   "execution_count": 15,
   "metadata": {},
   "outputs": [
    {
     "data": {
      "image/png": "[encoded data removed]",
      "text/plain": [
       "<Figure size 432x288 with 1 Axes>"
      ]
     },
     "metadata": {
      "needs_background": "light"
     },
     "output_type": "display_data"
    }
   ],
   "source": [
    "# summarize history for loss\n",
    "plt.plot(history.history['loss'])\n",
    "plt.plot(history.history['val_loss'])\n",
    "plt.title('model loss')\n",
    "plt.ylabel('loss')\n",
    "plt.xlabel('epoch')\n",
    "plt.legend(['train', 'test'], loc='upper left')\n",
    "plt.show()"
   ]
  },
  {
   "cell_type": "code",
   "execution_count": 16,
   "metadata": {},
   "outputs": [
    {
     "name": "stdout",
     "output_type": "stream",
     "text": [
      "Model evaluation time on training data 0:04:22.130419\n",
      "Model evaluation time on testing data 0:01:13.116791\n",
      "Training Loss: 0.343, Testing loss: 0.343\n",
      "Train: 0.841, Test: 0.840\n"
     ]
    }
   ],
   "source": [
    "# evaluate the model\n",
    "before_train_evaluation = datetime.datetime.now()\n",
    "train_loss, train_acc = model.evaluate(X_train, y_train, verbose=0)\n",
    "after_train_evaluation = datetime.datetime.now()\n",
    "delta_train_evaluation = after_train_evaluation - before_train_evaluation\n",
    "print(\"Model evaluation time on training data\", delta_train_evaluation)\n",
    "\n",
    "before_test_evaluation = datetime.datetime.now()\n",
    "test_loss, test_acc = model.evaluate(X_test, y_test, verbose=0)\n",
    "after_test_evaluation = datetime.datetime.now()\n",
    "delta_test_evaluation = after_test_evaluation - before_test_evaluation\n",
    "print(\"Model evaluation time on testing data\", delta_test_evaluation)\n",
    "\n",
    "print('Training Loss: %.3f, Testing loss: %.3f' % (train_loss, test_loss) )\n",
    "print('Train: %.3f, Test: %.3f' % (train_acc, test_acc))"
   ]
  },
  {
   "cell_type": "code",
   "execution_count": 18,
   "metadata": {},
   "outputs": [],
   "source": [
    "# Saving the model and loading the saved model\n",
    "\n",
    "model.save('../diagram/full_LSTM_PCA.h5')\n",
    "\n",
    "#model.save('../saved_models/full_model_LSTM_with_pca.h5')\n",
    "#keras.models.load_model('../saved_models/full_model_LSTM_with_pca.h5')"
   ]
  },
  {
   "cell_type": "code",
   "execution_count": 45,
   "metadata": {},
   "outputs": [
    {
     "data": {
      "text/plain": [
       "40"
      ]
     },
     "execution_count": 45,
     "metadata": {},
     "output_type": "execute_result"
    }
   ],
   "source": [
    "import gc\n",
    "gc.collect()"
   ]
  },
  {
   "cell_type": "code",
   "execution_count": 8,
   "metadata": {},
   "outputs": [],
   "source": [
    "# Like predict, but you pass in an array of URLs, and it is all\n",
    "# vectorized in one step, making it more efficient\n",
    "def predicts(text_X):\n",
    "    X = np.zeros((len(text_X), maxlen), dtype=np.int)\n",
    "    for i in range(len(text_X)):\n",
    "        offset = max(maxlen - len(text_X[i]), 0)\n",
    "        for t, char in enumerate(text_X[i]):\n",
    "            if t >= maxlen:\n",
    "                break\n",
    "            X[i, t + offset] = word_index[char]\n",
    "    preds = [pred[0] for pred in model.predict(X)]\n",
    "    return preds"
   ]
  },
  {
   "cell_type": "code",
   "execution_count": 21,
   "metadata": {},
   "outputs": [
    {
     "name": "stdout",
     "output_type": "stream",
     "text": [
      "0.16997769548638728 false negatives for positives set.\n",
      "0.14573923674331973 false positive rate for train.\n",
      "0.14446232401970005 false positive rate for dev.\n",
      "0.14676112655256246 false positive rate for test.\n"
     ]
    }
   ],
   "source": [
    "# Model Evaluation\n",
    "# define a threshold value so that values below threshold will be classified as false_positive\n",
    "threshold = 0.5\n",
    "maxlen = 50\n",
    "\n",
    "def evaluate_model(positives, negatives_train, negatives_dev, negatives_test, threshold):\n",
    "    false_negatives = 0.0\n",
    "    preds = predicts(positives)\n",
    "    for pred in preds:\n",
    "        if pred <= threshold:\n",
    "            false_negatives += 1\n",
    "    print(false_negatives / len(positives), \"false negatives for positives set.\")\n",
    "\n",
    "    false_positives_train = 0.0\n",
    "    preds = predicts(negatives_train)\n",
    "    for pred in preds:\n",
    "        if pred > threshold:\n",
    "            false_positives_train += 1\n",
    "\n",
    "    false_positives_dev = 0.0\n",
    "    preds = predicts(negatives_dev)\n",
    "    for pred in preds:\n",
    "        if pred > threshold:\n",
    "            false_positives_dev += 1\n",
    "\n",
    "    false_positives_test = 0.0\n",
    "    preds = predicts(negatives_test)\n",
    "    for pred in preds:\n",
    "        if pred > threshold:\n",
    "            false_positives_test += 1\n",
    "\n",
    "    print(false_positives_train / len(negatives_train), \"false positive rate for train.\")\n",
    "    print(false_positives_dev / len(negatives_dev), \"false positive rate for dev.\")\n",
    "    print(false_positives_test / len(negatives_test), \"false positive rate for test.\")\n",
    "\n",
    "evaluate_model(positives, negatives_train, negatives_dev, negatives_test, threshold)"
   ]
  },
  {
   "cell_type": "code",
   "execution_count": 22,
   "metadata": {},
   "outputs": [
    {
     "name": "stdout",
     "output_type": "stream",
     "text": [
      "Getting threshold for fp_rate 0.01\n",
      "Using threshold 0.9369516\n",
      "0.46593766807181974 false negatives for positives set.\n",
      "0.00972813976755911 false positive rate for train.\n",
      "0.009989341915529457 false positive rate for dev.\n",
      "0.009724631320836208 false positive rate for test.\n"
     ]
    }
   ],
   "source": [
    "# Getting predictions on negative_dev set to find a suitable threshold value.\n",
    "\n",
    "# defining the false positive rate which we can change.\n",
    "fp_rate = 0.01\n",
    "\n",
    "print(\"Getting threshold for fp_rate\", fp_rate)\n",
    "preds = predicts(negatives_dev)\n",
    "preds.sort()\n",
    "fp_index = math.ceil((len(negatives_dev) * (1 - fp_rate)))\n",
    "threshold = preds[fp_index]\n",
    "\n",
    "print(\"Using threshold\", threshold) \n",
    "\n",
    "evaluate_model(positives, negatives_train, negatives_dev, negatives_test, threshold)"
   ]
  },
  {
   "cell_type": "markdown",
   "metadata": {},
   "source": [
    "#### Defining Bloom Filter"
   ]
  },
  {
   "cell_type": "code",
   "execution_count": 9,
   "metadata": {},
   "outputs": [],
   "source": [
    "##  Adapted from https://www.geeksforgeeks.org/bloom-filters-introduction-and-python-implementation/ \n",
    "\n",
    "import math \n",
    "import mmh3 \n",
    "from bitarray import bitarray \n",
    "\n",
    "class BloomFilter(object): \n",
    "\n",
    "\t''' \n",
    "\tClass for Bloom filter, using murmur3 hash function \n",
    "\t'''\n",
    "\n",
    "\tdef __init__(self, items_count,fp_prob): \n",
    "\t\t''' \n",
    "\t\titems_count : int \n",
    "\t\t\tNumber of items expected to be stored in bloom filter \n",
    "\t\tfp_prob : float \n",
    "\t\t\tFalse Positive probability in decimal \n",
    "\t\t'''\n",
    "\t\t# False posible probability in decimal \n",
    "\t\tself.fp_prob = fp_prob \n",
    "\n",
    "\t\t# Size of bit array to use \n",
    "\t\tself.size = self.get_size(items_count,fp_prob) \n",
    "\n",
    "\t\t# number of hash functions to use \n",
    "\t\tself.hash_count = self.get_hash_count(self.size,items_count) \n",
    "\n",
    "\t\t# Bit array of given size \n",
    "\t\tself.bit_array = bitarray(self.size) \n",
    "\n",
    "\t\t# initialize all bits as 0 \n",
    "\t\tself.bit_array.setall(0) \n",
    "\n",
    "\tdef add(self, item): \n",
    "\t\t''' \n",
    "\t\tAdd an item in the filter \n",
    "\t\t'''\n",
    "\t\tdigests = [] \n",
    "\t\tfor i in range(self.hash_count): \n",
    "\n",
    "\t\t\t# create digest for given item. \n",
    "\t\t\t# i work as seed to mmh3.hash() function \n",
    "\t\t\t# With different seed, digest created is different \n",
    "\t\t\tdigest = mmh3.hash(item,i) % self.size \n",
    "\t\t\tdigests.append(digest) \n",
    "\n",
    "\t\t\t# set the bit True in bit_array \n",
    "\t\t\tself.bit_array[digest] = True\n",
    "\n",
    "\tdef check(self, item): \n",
    "\t\t''' \n",
    "\t\tCheck for existence of an item in filter \n",
    "\t\t'''\n",
    "\t\tfor i in range(self.hash_count): \n",
    "\t\t\tdigest = mmh3.hash(item,i) % self.size \n",
    "\t\t\tif self.bit_array[digest] == False: \n",
    "\n",
    "\t\t\t\t# if any of bit is False then,its not present \n",
    "\t\t\t\t# in filter \n",
    "\t\t\t\t# else there is probability that it exist \n",
    "\t\t\t\treturn False\n",
    "\t\treturn True\n",
    "\n",
    "\t@classmethod\n",
    "\tdef get_size(self,n,p): \n",
    "\t\t''' \n",
    "\t\tReturn the size of bit array(m) to used using \n",
    "\t\tfollowing formula \n",
    "\t\tm = -(n * lg(p)) / (lg(2)^2) \n",
    "\t\tn : int \n",
    "\t\t\tnumber of items expected to be stored in filter \n",
    "\t\tp : float \n",
    "\t\t\tFalse Positive probability in decimal \n",
    "\t\t'''\n",
    "\t\tm = -(n * math.log(p))/(math.log(2)**2) \n",
    "\t\treturn int(m) \n",
    "\n",
    "\t@classmethod\n",
    "\tdef get_hash_count(self, m, n): \n",
    "\t\t''' \n",
    "\t\tReturn the hash function(k) to be used using \n",
    "\t\tfollowing formula \n",
    "\t\tk = (m/n) * lg(2) \n",
    "\n",
    "\t\tm : int \n",
    "\t\t\tsize of bit array \n",
    "\t\tn : int \n",
    "\t\t\tnumber of items expected to be stored in filter \n",
    "\t\t'''\n",
    "\t\tk = (m/n) * math.log(2) \n",
    "\t\treturn int(k) \n"
   ]
  },
  {
   "cell_type": "code",
   "execution_count": 11,
   "metadata": {},
   "outputs": [
    {
     "name": "stdout",
     "output_type": "stream",
     "text": [
      "Getting threshold for fp_rate 0.01\n",
      "The threhold value to use is: 0.9684032\n"
     ]
    }
   ],
   "source": [
    "# Defining the threshold value\n",
    "fp_rate = 0.01\n",
    "print(\"Getting threshold for fp_rate\", fp_rate)\n",
    "preds = predicts(negatives_dev)\n",
    "preds.sort()\n",
    "fp_index = math.ceil((len(negatives_dev) * (1 - fp_rate/2)))\n",
    "threshold = preds[fp_index]\n",
    "print(\"The threhold value to use is:\", threshold)"
   ]
  },
  {
   "cell_type": "code",
   "execution_count": 12,
   "metadata": {},
   "outputs": [
    {
     "name": "stdout",
     "output_type": "stream",
     "text": [
      "Creating bloom filter\n",
      "Number of false negatives at bloom time 666614\n",
      "Created bloom filter\n"
     ]
    }
   ],
   "source": [
    "def create_bloom_filter(data):\n",
    "    print(\"Creating bloom filter\")\n",
    "    false_negatives = []\n",
    "    # calling the predicts function \n",
    "    preds = predicts(data)\n",
    "    for i in range(len(data)):\n",
    "        if preds[i] <= threshold:\n",
    "            false_negatives.append(data[i])\n",
    "    print(\"Number of false negatives at bloom time\", len(false_negatives))\n",
    "    bloom_filter = BloomFilter(len(false_negatives), fp_rate / 2)\n",
    "    for fn in false_negatives:\n",
    "        bloom_filter.add(fn)\n",
    "    print(\"Created bloom filter\")\n",
    "    return bloom_filter\n",
    "\n",
    "bloom_filter = create_bloom_filter(positives)"
   ]
  },
  {
   "cell_type": "code",
   "execution_count": 13,
   "metadata": {},
   "outputs": [],
   "source": [
    "# Function to predict the output from the machine learning model\n",
    "def predict(text_x):\n",
    "    x = np.zeros((1, maxlen), dtype=np.int)\n",
    "    offset = max(maxlen - len(text_x), 0)\n",
    "    for t, char in enumerate(text_x):\n",
    "        if t >= maxlen:\n",
    "            break\n",
    "        x[0, t + offset] = word_index[char]\n",
    "    pred = model.predict(x)\n",
    "    return pred[0][0]\n",
    "\n",
    "def check_item(item):\n",
    "    if predict(item) > threshold:\n",
    "        return True\n",
    "    return bloom_filter.check(item)"
   ]
  },
  {
   "cell_type": "code",
   "execution_count": null,
   "metadata": {},
   "outputs": [
    {
     "name": "stdout",
     "output_type": "stream",
     "text": [
      "Bloom filter bits needed 7351254\n",
      "Bloom filter size in bytes 918906.75\n",
      "Number of hash 7\n"
     ]
    }
   ],
   "source": [
    "print(\"Bloom filter bits needed\", bloom_filter.size)\n",
    "print(\"Bloom filter size in bytes\", (bloom_filter.size)/8)\n",
    "print(\"Number of hash\", bloom_filter.hash_count)\n",
    "    \n",
    "false_positives = 0.0\n",
    "for neg in negatives_test:\n",
    "    if check_item(neg):\n",
    "        false_positives += 1\n",
    "print(\"Test false positive rate: \", str(false_positives / len(negatives_test)))"
   ]
  },
  {
   "cell_type": "code",
   "execution_count": null,
   "metadata": {},
   "outputs": [],
   "source": []
  }
 ],
 "metadata": {
  "kernelspec": {
   "display_name": "Python 3",
   "language": "python",
   "name": "python3"
  },
  "language_info": {
   "codemirror_mode": {
    "name": "ipython",
    "version": 3
   },
   "file_extension": ".py",
   "mimetype": "text/x-python",
   "name": "python",
   "nbconvert_exporter": "python",
   "pygments_lexer": "ipython3",
   "version": "3.7.3"
  }
 },
 "nbformat": 4,
 "nbformat_minor": 2
}
