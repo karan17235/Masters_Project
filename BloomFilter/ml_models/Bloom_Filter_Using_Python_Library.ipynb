{
 "cells": [
  {
   "cell_type": "code",
   "execution_count": 11,
   "metadata": {},
   "outputs": [
    {
     "name": "stdout",
     "output_type": "stream",
     "text": [
      "Total Dataset:  2926705\n",
      "Number of positive instances:  1491178\n",
      "Number of negative instances:  1435527\n",
      "Build time: 0:01:09.696275\n",
      "Number of bits: 14293029\n",
      "Results of url test:\n",
      "False positives 0.010015833906293646\n"
     ]
    }
   ],
   "source": [
    "from bloom_filter import BloomFilter\n",
    "import json\n",
    "import datetime\n",
    "import sys\n",
    "import random\n",
    "\n",
    "def url_test(positives, negatives, fp_rate):\n",
    "    bloom_capacity = len(positives)\n",
    "    bf = BloomFilter(bloom_capacity, fp_rate)\n",
    "    count = 0\n",
    "\n",
    "    before = datetime.datetime.now()\n",
    "    for pos in positives:\n",
    "        if count == bloom_capacity:\n",
    "            break\n",
    "        bf.add(pos)\n",
    "        count += 1\n",
    "        assert(pos in bf)\n",
    "    \n",
    "    after = datetime.datetime.now()\n",
    "    delta = after - before\n",
    "    print(\"Build time:\", delta)\n",
    "    print(\"Number of bits:\", bf.num_bits_m)\n",
    "#     print(\"Converting bits to bytes\", (bf.size)/8)\n",
    "#     print(\"Hash functions needed\", bf.hash_count)\n",
    "\n",
    "    fp = 0.0\n",
    "    for neg in negatives:\n",
    "        if(str(neg) in bf):\n",
    "            fp += 1\n",
    "    print(\"Results of url test:\")\n",
    "    print(\"False positives\", fp / len(negatives))\n",
    "\n",
    "\n",
    "with open('dataset.json', 'r') as f:\n",
    "    dataset = json.load(f)\n",
    "\n",
    "positives = dataset['positives']\n",
    "negatives = dataset['negatives']\n",
    "data_fraction = 1\n",
    "positives = positives[:int(data_fraction * len(positives))]\n",
    "negatives = negatives[:int(data_fraction * len(negatives))]\n",
    "\n",
    "print(\"Total Dataset: \", len(positives) + len(negatives))\n",
    "print(\"Number of positive instances: \", len(positives))\n",
    "print(\"Number of negative instances: \", len(negatives))\n",
    "\n",
    "url_test(positives, negatives, 0.01)"
   ]
  },
  {
   "cell_type": "markdown",
   "metadata": {},
   "source": [
    "#### Results of the Bloom Filter on Half Dataset\n",
    "\n",
    "Total Dataset:  1463352  \n",
    "Number of positive instances:  745589  \n",
    "Number of negative instances:  717763  \n",
    "Build time: 0:00:33.993262  \n",
    "Number of bits: 7146515    \n",
    "Results of url test:  \n",
    "False positives 0.009845868343729058  \n",
    "Size in bytes: 893314.375   \n",
    "Size in Mb: 0.893314375  "
   ]
  },
  {
   "cell_type": "markdown",
   "metadata": {},
   "source": [
    "#### Results of the Bloom Filter Using Full Dataset\n",
    "\n",
    "Total Dataset:  2926705  \n",
    "Number of positive instances:  1491178  \n",
    "Number of negative instances:  1435527  \n",
    "Build time: 0:01:09.696275  \n",
    "Number of bits: 14293029  \n",
    "Results of url test:  \n",
    "False positives 0.010015833906293646  \n",
    "Size in bytes: 1786628.625  \n",
    "Size in Mb: 1.786628625  "
   ]
  }
 ],
 "metadata": {
  "kernelspec": {
   "display_name": "Python 3",
   "language": "python",
   "name": "python3"
  },
  "language_info": {
   "codemirror_mode": {
    "name": "ipython",
    "version": 3
   },
   "file_extension": ".py",
   "mimetype": "text/x-python",
   "name": "python",
   "nbconvert_exporter": "python",
   "pygments_lexer": "ipython3",
   "version": "3.7.3"
  }
 },
 "nbformat": 4,
 "nbformat_minor": 2
}
