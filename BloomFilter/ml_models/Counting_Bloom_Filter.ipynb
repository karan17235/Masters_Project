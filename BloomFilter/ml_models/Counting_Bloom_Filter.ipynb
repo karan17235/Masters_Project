{
 "cells": [
  {
   "cell_type": "code",
   "execution_count": 1,
   "metadata": {},
   "outputs": [],
   "source": [
    "import math\n",
    "import hashlib\n",
    "\n",
    "class CBFs: #Counting bloom filters class\n",
    "    \n",
    "    def __init__ (self, expected_inputS, false_positiveP):\n",
    "        \n",
    "        self.expected_inputS = expected_inputS #The expected input size (n)\n",
    "        self.false_positiveP = false_positiveP #The desired false positive proability (p)\n",
    "        \n",
    "        #Finding the array size (m) from the function\n",
    "        self.size = -1*round ((self.expected_inputS * math.log (self.false_positiveP)) / (math.log (2))**2)\n",
    "        self.array = [0] * self.size # Creating a list of zeros with size m\n",
    "        \n",
    "        #Finding the optimal number of hashing functions\n",
    "        self.hashing_n = round ((self.size / self.expected_inputS ) * math.log (2))\n",
    "        \n",
    "        #Check if the number of hashing funcitons is greater than 6 or less than one\n",
    "        #So, the number of hashing functions stays in the bounderies between 1 and 6\n",
    "        if (self.hashing_n > 6):\n",
    "            self.hashing_n = 6\n",
    "        elif (self.hashing_n < 1):\n",
    "            self.hashing_n = 1\n",
    "    \n",
    "    def hashing (self, element): #Define the hash functions \n",
    "        keys = [] #That list will the keys for the element\n",
    "        hash_object1 = hashlib.md5(element.encode ()) #Use the first hash function\n",
    "        hash_object2 = hashlib.sha1(element.encode ())#Use the second hash function\n",
    "        hash_object3 = hashlib.sha224(element.encode ())#Use the third hash function\n",
    "        hash_object4 = hashlib.sha256(element.encode ())#Use the fourth hash function\n",
    "        hash_object5 = hashlib.sha384(element.encode ())#Use the fifth hash function\n",
    "        hash_object6 = hashlib.sha512(element.encode ())#Use the sixth hash function\n",
    "        #Append the keys into the list\n",
    "        keys.append (int (hash_object1.hexdigest(), 16))  \n",
    "        keys.append (int (hash_object2.hexdigest(), 16))\n",
    "        keys.append (int (hash_object3.hexdigest(), 16))\n",
    "        keys.append (int (hash_object4.hexdigest(), 16))\n",
    "        keys.append (int (hash_object5.hexdigest(), 16))\n",
    "        keys.append (int (hash_object6.hexdigest(), 16))\n",
    "        return keys #Return the list of keys\n",
    "    \n",
    "    def add (self, element): #use the Add method to add elements into the array\n",
    "        \n",
    "        keys = self.hashing (element) #Find the hashing keys for the element\n",
    "        key = 0 #Reset the current key\n",
    "        \n",
    "        for indx in range (self.hashing_n): #Loop through the every key in the list up to the limit\n",
    "            key = int (keys [indx] % self.size) #Find the key moduls from the list size\n",
    "            self.array [key] += 1 #Increase the counter value by one \n",
    "            \n",
    "    def remove (self, element): #use the Remove method to remove elements from the lists\n",
    "        \n",
    "        keys = self.hashing (element) #Find the hashing keys for the element\n",
    "        key = 0 #Reset the current key\n",
    "        \n",
    "        if (self.look_up(element)):#Check if that element in the list or not \n",
    "            for indx in range (self.hashing_n):#Loop through the every key in the list up to the limit\n",
    "                key = int (keys [indx] % self.size)#Find the key moduls from the list size\n",
    "                self.array [key] = self.array [key] - 1 #Decrease the counter value by one\n",
    "                \n",
    "        else: #Print that element doesn't exist \n",
    "            print (\"The element doesn't exist\")\n",
    "            \n",
    "    \n",
    "    def look_up (self, element): #Checks if an element is in the data structure or not\n",
    "        \n",
    "        found = True #Holds if the value found or not\n",
    "        keys = self.hashing (element) #Find the keys for the elements \n",
    "        key = 0 #Reset the current key\n",
    "        \n",
    "        for indx in range (self.hashing_n): #Loop through the every key in the list up to the limit\n",
    "            key = int (keys [indx] % self.size)#Find the key moduls from the list size\n",
    "            \n",
    "            if (not self.array [key] > 0): # Check if the element \n",
    "                found = False #Set the value to false \n",
    "                \n",
    "        return found #Return the result of the function "
   ]
  },
  {
   "cell_type": "code",
   "execution_count": 8,
   "metadata": {},
   "outputs": [
    {
     "data": {
      "text/plain": [
       "False"
      ]
     },
     "execution_count": 8,
     "metadata": {},
     "output_type": "execute_result"
    }
   ],
   "source": [
    "object1 = CBFs(10, 0.01)\n",
    "for i in range(1,10):\n",
    "    object1.add(str(i))\n",
    "    \n",
    "object1.look_up(str(2))\n",
    "object1.remove(str(2))\n",
    "object1.look_up(str(2))"
   ]
  }
 ],
 "metadata": {
  "kernelspec": {
   "display_name": "Python 3",
   "language": "python",
   "name": "python3"
  },
  "language_info": {
   "codemirror_mode": {
    "name": "ipython",
    "version": 3
   },
   "file_extension": ".py",
   "mimetype": "text/x-python",
   "name": "python",
   "nbconvert_exporter": "python",
   "pygments_lexer": "ipython3",
   "version": "3.7.3"
  }
 },
 "nbformat": 4,
 "nbformat_minor": 2
}
