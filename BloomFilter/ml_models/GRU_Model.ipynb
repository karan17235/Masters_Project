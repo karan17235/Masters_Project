{
 "cells": [
  {
   "cell_type": "code",
   "execution_count": 1,
   "metadata": {},
   "outputs": [],
   "source": [
    "import json\n",
    "import random\n",
    "import numpy as np\n",
    "import math\n",
    "import datetime\n",
    "from collections import Counter\n",
    "import matplotlib as pyplot\n",
    "\n",
    "# Scikit-learn imports\n",
    "from sklearn.decomposition import PCA\n",
    "from sklearn.model_selection import train_test_split\n",
    "\n",
    "# Tensorflow and keras imports\n",
    "import tensorflow as tf\n",
    "from tensorflow import keras\n",
    "from tensorflow.keras import backend as K\n",
    "\n",
    "# plot training history\n",
    "import matplotlib.pyplot as plt"
   ]
  },
  {
   "cell_type": "code",
   "execution_count": 2,
   "metadata": {},
   "outputs": [],
   "source": [
    "K.clear_session()\n",
    "tf.compat.v1.reset_default_graph()"
   ]
  },
  {
   "cell_type": "code",
   "execution_count": 3,
   "metadata": {},
   "outputs": [],
   "source": [
    "def data():\n",
    "    maxlen = 50\n",
    "    embedding_size = 50\n",
    "    pca_embedding_dim = 16\n",
    "    \n",
    "    # importing the glove embeddings path \n",
    "    embeddings_path = '../data/glove.6B.50d-char.txt'\n",
    "    \n",
    "    # Indexing character vectors using glove word vectors\n",
    "    embedding_vectors = {}\n",
    "    with open(embeddings_path, 'r') as f:\n",
    "        for line in f:\n",
    "            line_split = line.strip().split(\" \")\n",
    "            vec = np.array(line_split[1:], dtype=float)\n",
    "            char = line_split[0]\n",
    "            embedding_vectors[char] = vec\n",
    "#     print('Found %s char vectors.' % len(embedding_vectors))\n",
    "    \n",
    "    # loading the dataset\n",
    "    with open('../data/dataset.json', 'r') as f:\n",
    "        dataset = json.load(f)\n",
    "        positives = dataset['positives']\n",
    "        negatives = dataset['negatives']\n",
    "    \n",
    "    # dividing the dataset to make small models\n",
    "    data_fraction = 1\n",
    "    positives = positives[:int(data_fraction * len(positives))]\n",
    "    negatives = negatives[:int(data_fraction * len(negatives))]\n",
    "    print(\"Total Dataset: \", len(positives+negatives))\n",
    "    \n",
    "    # Dividing the negatives dataset between train, dev and test\n",
    "    negatives_train = negatives[0: int(len(negatives) * .8)]\n",
    "    negatives_dev = negatives[int(len(negatives) * .8): int(len(negatives) * .9)]\n",
    "    negatives_test = negatives[int(len(negatives) * .9): ]\n",
    "    print(\"Split sizes:\")\n",
    "    print(len(positives), len(negatives_train), len(negatives_dev), len(negatives_test))\n",
    "    \n",
    "    # Shuffling the data\n",
    "    a = [(i, 0) for i in negatives_train]\n",
    "    b = [(i, 1) for i in positives]\n",
    "    combined = a + b\n",
    "    random.shuffle(combined)\n",
    "    shuffled = list(zip(*combined))\n",
    "    text_X = shuffled[0]\n",
    "    labels = shuffled[1]\n",
    "    \n",
    "    # tokenizing the input url's\n",
    "    tk = keras.preprocessing.text.Tokenizer(char_level=True)\n",
    "    tk.fit_on_texts(text_X)\n",
    "    \n",
    "    # List the vocabulary\n",
    "    word_index = tk.word_index\n",
    "    vocab_size = len(word_index) + 1\n",
    "#     print(vocab_size)\n",
    "#     print(word_index)\n",
    "    \n",
    "    # integer encode the documents\n",
    "    sequences = tk.texts_to_sequences(text_X)\n",
    "\n",
    "    # pad documents to a max length of 4 words\n",
    "    data = keras.preprocessing.sequence.pad_sequences(sequences, maxlen=maxlen) # by default the padding is post.\n",
    "    labels = np.asarray(labels)\n",
    "#     print('Shape of data tensor:', data.shape)\n",
    "#     print('Shape of label tensor:', labels.shape)\n",
    "    \n",
    "    # Dividing the dataset into train and test.\n",
    "    X_train, X_test, y_train, y_test = train_test_split(data, labels, test_size=0.2, random_state=42)\n",
    "    \n",
    "    # split the training data into a training set and a validation set\n",
    "    X_train, X_val, y_train, y_val = train_test_split(X_train, y_train, test_size=0.1, random_state=42)\n",
    "    print(len(X_train))\n",
    "    print(len(X_val))\n",
    "    \n",
    "    # create a weight matrix for words in training docs\n",
    "#     print('Preparing embedding matrix.')\n",
    "    embedding_matrix = np.zeros((vocab_size, embedding_size))\n",
    "    for char, i in word_index.items():\n",
    "        embedding_vector = embedding_vectors.get(char)\n",
    "        if embedding_vector is not None:\n",
    "            embedding_matrix[i] = embedding_vector\n",
    "#     print(embedding_matrix.shape)\n",
    "    \n",
    "    # PCA Embedding dimension\n",
    "    pca = PCA(n_components = pca_embedding_dim)\n",
    "    pca.fit(embedding_matrix[1:])\n",
    "    embedding_matrix_pca = np.array(pca.transform(embedding_matrix[1:]))\n",
    "    embedding_matrix_pca = np.insert(embedding_matrix_pca, 0, 0, axis=0)\n",
    "    print(\"PCA matrix created\")\n",
    "    \n",
    "    return (X_train, X_test, y_train, y_test, X_val, y_val, embedding_matrix, maxlen, vocab_size, word_index,\n",
    "            positives, negatives_train, negatives_dev, negatives_test)"
   ]
  },
  {
   "cell_type": "code",
   "execution_count": 4,
   "metadata": {},
   "outputs": [],
   "source": [
    "\n",
    "def create_model(embedding_matrix, vocab_size, maxlen):\n",
    "    model = keras.Sequential([\n",
    "            keras.layers.Embedding(vocab_size, 50, input_length=maxlen, weights=[embedding_matrix]),\n",
    "#             keras.layers.GRU(16, dropout=0.1, kernel_regularizer=keras.regularizers.l2(1e-4)),\n",
    "            keras.layers.GRU(24, dropout = 0.2, return_sequences=False),\n",
    "            keras.layers.Dense(10, activation='relu'),\n",
    "            keras.layers.Dense(1, activation = 'sigmoid')\n",
    "    ])\n",
    "\n",
    "    optimizer = keras.optimizers.Adam(lr = 0.001, decay = 0.0001)\n",
    "    model.compile(optimizer=optimizer, loss='binary_crossentropy', metrics=['accuracy'])\n",
    "    earlyStopping = keras.callbacks.EarlyStopping(monitor='val_loss', patience=5, verbose=1, min_delta = 0.001)\n",
    "    file_path = '../model_weights/keras_weights_GRU_full_dataset_without_pca.hdf5'\n",
    "    checkpoint = keras.callbacks.ModelCheckpoint(filepath=file_path, verbose=1, save_best_only=True)\n",
    "    callbacks_list = [earlyStopping, checkpoint]\n",
    "    print(model.summary())\n",
    "    return model, callbacks_list"
   ]
  },
  {
   "cell_type": "code",
   "execution_count": 5,
   "metadata": {},
   "outputs": [
    {
     "name": "stdout",
     "output_type": "stream",
     "text": [
      "Total Dataset:  2926705\n",
      "Split sizes:\n",
      "1491178 1148421 143553 143553\n",
      "1900511\n",
      "211168\n",
      "PCA matrix created\n",
      "Data Preprocessing time: 0:01:11.406246\n"
     ]
    }
   ],
   "source": [
    "before_dataset = datetime.datetime.now()\n",
    "(X_train, X_test, y_train, y_test, X_val, y_val, embedding_matrix, maxlen, vocab_size, word_index,\n",
    "    positives, negatives_train, negatives_dev, negatives_test) = data()\n",
    "after_dataset = datetime.datetime.now()\n",
    "delta_dataset = after_dataset - before_dataset\n",
    "print(\"Data Preprocessing time:\", delta_dataset)"
   ]
  },
  {
   "cell_type": "code",
   "execution_count": 6,
   "metadata": {
    "scrolled": true
   },
   "outputs": [
    {
     "name": "stdout",
     "output_type": "stream",
     "text": [
      "Model: \"sequential\"\n",
      "_________________________________________________________________\n",
      "Layer (type)                 Output Shape              Param #   \n",
      "=================================================================\n",
      "embedding (Embedding)        (None, 50, 50)            1950      \n",
      "_________________________________________________________________\n",
      "gru (GRU)                    (None, 24)                5472      \n",
      "_________________________________________________________________\n",
      "dense (Dense)                (None, 10)                250       \n",
      "_________________________________________________________________\n",
      "dense_1 (Dense)              (None, 1)                 11        \n",
      "=================================================================\n",
      "Total params: 7,683\n",
      "Trainable params: 7,683\n",
      "Non-trainable params: 0\n",
      "_________________________________________________________________\n",
      "None\n",
      "Epoch 1/50\n",
      "\n",
      "Epoch 00001: val_loss improved from inf to 0.49643, saving model to ../model_weights/keras_weights_GRU_full_dataset_without_pca.hdf5\n",
      "464/464 - 105s - loss: 0.5636 - accuracy: 0.6818 - val_loss: 0.4964 - val_accuracy: 0.7338\n",
      "Epoch 2/50\n",
      "\n",
      "Epoch 00002: val_loss improved from 0.49643 to 0.44446, saving model to ../model_weights/keras_weights_GRU_full_dataset_without_pca.hdf5\n",
      "464/464 - 101s - loss: 0.4774 - accuracy: 0.7505 - val_loss: 0.4445 - val_accuracy: 0.7739\n",
      "Epoch 3/50\n",
      "\n",
      "Epoch 00003: val_loss improved from 0.44446 to 0.41153, saving model to ../model_weights/keras_weights_GRU_full_dataset_without_pca.hdf5\n",
      "464/464 - 101s - loss: 0.4388 - accuracy: 0.7779 - val_loss: 0.4115 - val_accuracy: 0.7957\n",
      "Epoch 4/50\n",
      "\n",
      "Epoch 00004: val_loss improved from 0.41153 to 0.38536, saving model to ../model_weights/keras_weights_GRU_full_dataset_without_pca.hdf5\n",
      "464/464 - 100s - loss: 0.4114 - accuracy: 0.7967 - val_loss: 0.3854 - val_accuracy: 0.8138\n",
      "Epoch 5/50\n",
      "\n",
      "Epoch 00005: val_loss improved from 0.38536 to 0.37089, saving model to ../model_weights/keras_weights_GRU_full_dataset_without_pca.hdf5\n",
      "464/464 - 98s - loss: 0.3934 - accuracy: 0.8087 - val_loss: 0.3709 - val_accuracy: 0.8233\n",
      "Epoch 6/50\n",
      "\n",
      "Epoch 00006: val_loss improved from 0.37089 to 0.36126, saving model to ../model_weights/keras_weights_GRU_full_dataset_without_pca.hdf5\n",
      "464/464 - 99s - loss: 0.3818 - accuracy: 0.8169 - val_loss: 0.3613 - val_accuracy: 0.8300\n",
      "Epoch 7/50\n",
      "\n",
      "Epoch 00007: val_loss improved from 0.36126 to 0.35405, saving model to ../model_weights/keras_weights_GRU_full_dataset_without_pca.hdf5\n",
      "464/464 - 99s - loss: 0.3730 - accuracy: 0.8226 - val_loss: 0.3540 - val_accuracy: 0.8339\n",
      "Epoch 8/50\n",
      "\n",
      "Epoch 00008: val_loss improved from 0.35405 to 0.34763, saving model to ../model_weights/keras_weights_GRU_full_dataset_without_pca.hdf5\n",
      "464/464 - 98s - loss: 0.3662 - accuracy: 0.8268 - val_loss: 0.3476 - val_accuracy: 0.8390\n",
      "Epoch 9/50\n",
      "\n",
      "Epoch 00009: val_loss improved from 0.34763 to 0.34453, saving model to ../model_weights/keras_weights_GRU_full_dataset_without_pca.hdf5\n",
      "464/464 - 99s - loss: 0.3606 - accuracy: 0.8304 - val_loss: 0.3445 - val_accuracy: 0.8404\n",
      "Epoch 10/50\n",
      "\n",
      "Epoch 00010: val_loss improved from 0.34453 to 0.33672, saving model to ../model_weights/keras_weights_GRU_full_dataset_without_pca.hdf5\n",
      "464/464 - 100s - loss: 0.3559 - accuracy: 0.8332 - val_loss: 0.3367 - val_accuracy: 0.8450\n",
      "Epoch 11/50\n",
      "\n",
      "Epoch 00011: val_loss improved from 0.33672 to 0.33459, saving model to ../model_weights/keras_weights_GRU_full_dataset_without_pca.hdf5\n",
      "464/464 - 99s - loss: 0.3521 - accuracy: 0.8357 - val_loss: 0.3346 - val_accuracy: 0.8456\n",
      "Epoch 12/50\n",
      "\n",
      "Epoch 00012: val_loss improved from 0.33459 to 0.33093, saving model to ../model_weights/keras_weights_GRU_full_dataset_without_pca.hdf5\n",
      "464/464 - 101s - loss: 0.3487 - accuracy: 0.8376 - val_loss: 0.3309 - val_accuracy: 0.8485\n",
      "Epoch 13/50\n",
      "\n",
      "Epoch 00013: val_loss did not improve from 0.33093\n",
      "464/464 - 99s - loss: 0.3461 - accuracy: 0.8389 - val_loss: 0.3315 - val_accuracy: 0.8471\n",
      "Epoch 14/50\n",
      "\n",
      "Epoch 00014: val_loss improved from 0.33093 to 0.32943, saving model to ../model_weights/keras_weights_GRU_full_dataset_without_pca.hdf5\n",
      "464/464 - 97s - loss: 0.3431 - accuracy: 0.8405 - val_loss: 0.3294 - val_accuracy: 0.8489\n",
      "Epoch 15/50\n",
      "\n",
      "Epoch 00015: val_loss improved from 0.32943 to 0.32349, saving model to ../model_weights/keras_weights_GRU_full_dataset_without_pca.hdf5\n",
      "464/464 - 99s - loss: 0.3407 - accuracy: 0.8421 - val_loss: 0.3235 - val_accuracy: 0.8522\n",
      "Epoch 16/50\n",
      "\n",
      "Epoch 00016: val_loss improved from 0.32349 to 0.32289, saving model to ../model_weights/keras_weights_GRU_full_dataset_without_pca.hdf5\n",
      "464/464 - 97s - loss: 0.3389 - accuracy: 0.8431 - val_loss: 0.3229 - val_accuracy: 0.8525\n",
      "Epoch 17/50\n",
      "\n",
      "Epoch 00017: val_loss improved from 0.32289 to 0.31974, saving model to ../model_weights/keras_weights_GRU_full_dataset_without_pca.hdf5\n",
      "464/464 - 98s - loss: 0.3374 - accuracy: 0.8439 - val_loss: 0.3197 - val_accuracy: 0.8542\n",
      "Epoch 18/50\n",
      "\n",
      "Epoch 00018: val_loss improved from 0.31974 to 0.31806, saving model to ../model_weights/keras_weights_GRU_full_dataset_without_pca.hdf5\n",
      "464/464 - 99s - loss: 0.3356 - accuracy: 0.8453 - val_loss: 0.3181 - val_accuracy: 0.8553\n",
      "Epoch 19/50\n",
      "\n",
      "Epoch 00019: val_loss improved from 0.31806 to 0.31619, saving model to ../model_weights/keras_weights_GRU_full_dataset_without_pca.hdf5\n",
      "464/464 - 98s - loss: 0.3339 - accuracy: 0.8462 - val_loss: 0.3162 - val_accuracy: 0.8566\n",
      "Epoch 20/50\n",
      "\n",
      "Epoch 00020: val_loss did not improve from 0.31619\n",
      "464/464 - 98s - loss: 0.3325 - accuracy: 0.8470 - val_loss: 0.3185 - val_accuracy: 0.8554\n",
      "Epoch 21/50\n",
      "\n",
      "Epoch 00021: val_loss improved from 0.31619 to 0.31346, saving model to ../model_weights/keras_weights_GRU_full_dataset_without_pca.hdf5\n",
      "464/464 - 99s - loss: 0.3311 - accuracy: 0.8479 - val_loss: 0.3135 - val_accuracy: 0.8579\n",
      "Epoch 22/50\n",
      "\n",
      "Epoch 00022: val_loss did not improve from 0.31346\n",
      "464/464 - 97s - loss: 0.3299 - accuracy: 0.8486 - val_loss: 0.3150 - val_accuracy: 0.8572\n",
      "Epoch 23/50\n",
      "\n",
      "Epoch 00023: val_loss improved from 0.31346 to 0.31302, saving model to ../model_weights/keras_weights_GRU_full_dataset_without_pca.hdf5\n",
      "464/464 - 97s - loss: 0.3286 - accuracy: 0.8491 - val_loss: 0.3130 - val_accuracy: 0.8584\n",
      "Epoch 24/50\n",
      "\n",
      "Epoch 00024: val_loss improved from 0.31302 to 0.31195, saving model to ../model_weights/keras_weights_GRU_full_dataset_without_pca.hdf5\n",
      "464/464 - 98s - loss: 0.3277 - accuracy: 0.8497 - val_loss: 0.3119 - val_accuracy: 0.8592\n",
      "Epoch 25/50\n",
      "\n",
      "Epoch 00025: val_loss improved from 0.31195 to 0.31137, saving model to ../model_weights/keras_weights_GRU_full_dataset_without_pca.hdf5\n",
      "464/464 - 99s - loss: 0.3267 - accuracy: 0.8502 - val_loss: 0.3114 - val_accuracy: 0.8595\n",
      "Epoch 26/50\n",
      "\n",
      "Epoch 00026: val_loss improved from 0.31137 to 0.30878, saving model to ../model_weights/keras_weights_GRU_full_dataset_without_pca.hdf5\n",
      "464/464 - 98s - loss: 0.3256 - accuracy: 0.8507 - val_loss: 0.3088 - val_accuracy: 0.8610\n",
      "Epoch 27/50\n",
      "\n",
      "Epoch 00027: val_loss did not improve from 0.30878\n",
      "464/464 - 98s - loss: 0.3249 - accuracy: 0.8513 - val_loss: 0.3104 - val_accuracy: 0.8597\n",
      "Epoch 28/50\n",
      "\n",
      "Epoch 00028: val_loss did not improve from 0.30878\n",
      "464/464 - 98s - loss: 0.3242 - accuracy: 0.8518 - val_loss: 0.3091 - val_accuracy: 0.8604\n",
      "Epoch 29/50\n",
      "\n",
      "Epoch 00029: val_loss improved from 0.30878 to 0.30796, saving model to ../model_weights/keras_weights_GRU_full_dataset_without_pca.hdf5\n",
      "464/464 - 98s - loss: 0.3232 - accuracy: 0.8520 - val_loss: 0.3080 - val_accuracy: 0.8612\n",
      "Epoch 30/50\n",
      "\n",
      "Epoch 00030: val_loss improved from 0.30796 to 0.30539, saving model to ../model_weights/keras_weights_GRU_full_dataset_without_pca.hdf5\n",
      "464/464 - 98s - loss: 0.3226 - accuracy: 0.8525 - val_loss: 0.3054 - val_accuracy: 0.8627\n",
      "Epoch 31/50\n",
      "\n",
      "Epoch 00031: val_loss improved from 0.30539 to 0.30511, saving model to ../model_weights/keras_weights_GRU_full_dataset_without_pca.hdf5\n",
      "464/464 - 98s - loss: 0.3217 - accuracy: 0.8531 - val_loss: 0.3051 - val_accuracy: 0.8629\n",
      "Epoch 32/50\n",
      "\n",
      "Epoch 00032: val_loss did not improve from 0.30511\n",
      "464/464 - 98s - loss: 0.3208 - accuracy: 0.8536 - val_loss: 0.3053 - val_accuracy: 0.8629\n",
      "Epoch 33/50\n",
      "\n",
      "Epoch 00033: val_loss improved from 0.30511 to 0.30329, saving model to ../model_weights/keras_weights_GRU_full_dataset_without_pca.hdf5\n",
      "464/464 - 99s - loss: 0.3203 - accuracy: 0.8540 - val_loss: 0.3033 - val_accuracy: 0.8641\n"
     ]
    },
    {
     "name": "stdout",
     "output_type": "stream",
     "text": [
      "Epoch 34/50\n",
      "\n",
      "Epoch 00034: val_loss did not improve from 0.30329\n",
      "464/464 - 99s - loss: 0.3199 - accuracy: 0.8540 - val_loss: 0.3047 - val_accuracy: 0.8630\n",
      "Epoch 35/50\n",
      "\n",
      "Epoch 00035: val_loss did not improve from 0.30329\n",
      "464/464 - 99s - loss: 0.3190 - accuracy: 0.8546 - val_loss: 0.3039 - val_accuracy: 0.8636\n",
      "Epoch 36/50\n",
      "\n",
      "Epoch 00036: val_loss did not improve from 0.30329\n",
      "464/464 - 98s - loss: 0.3184 - accuracy: 0.8552 - val_loss: 0.3050 - val_accuracy: 0.8630\n",
      "Epoch 37/50\n",
      "\n",
      "Epoch 00037: val_loss did not improve from 0.30329\n",
      "464/464 - 97s - loss: 0.3178 - accuracy: 0.8553 - val_loss: 0.3035 - val_accuracy: 0.8637\n",
      "Epoch 38/50\n",
      "\n",
      "Epoch 00038: val_loss improved from 0.30329 to 0.30239, saving model to ../model_weights/keras_weights_GRU_full_dataset_without_pca.hdf5\n",
      "464/464 - 97s - loss: 0.3176 - accuracy: 0.8554 - val_loss: 0.3024 - val_accuracy: 0.8646\n",
      "Epoch 00038: early stopping\n",
      "Model training time: 1:02:39.597563\n"
     ]
    }
   ],
   "source": [
    "training_start = datetime.datetime.now()\n",
    "model, callbacks_list = create_model(embedding_matrix, vocab_size, maxlen)\n",
    "history = model.fit(X_train, y_train, batch_size = 4096, epochs = 50, verbose=2, \n",
    "          validation_data=(X_val, y_val), callbacks = callbacks_list)\n",
    "training_stop = datetime.datetime.now()\n",
    "delta_training = training_stop - training_start\n",
    "print(\"Model training time:\", delta_training)"
   ]
  },
  {
   "cell_type": "markdown",
   "metadata": {},
   "source": [
    "### Plotting graphs for each epoch."
   ]
  },
  {
   "cell_type": "code",
   "execution_count": 28,
   "metadata": {
    "scrolled": true
   },
   "outputs": [
    {
     "data": {
      "image/png": "[encoded data removed]",
      "text/plain": [
       "<Figure size 432x288 with 1 Axes>"
      ]
     },
     "metadata": {
      "needs_background": "light"
     },
     "output_type": "display_data"
    }
   ],
   "source": [
    "# summarize history for accuracy\n",
    "plt.plot(history.history['accuracy'])\n",
    "plt.plot(history.history['val_accuracy'])\n",
    "plt.title('model accuracy')\n",
    "plt.ylabel('accuracy')\n",
    "plt.xlabel('epoch')\n",
    "plt.legend(['train', 'test'], loc='upper left')\n",
    "plt.show()"
   ]
  },
  {
   "cell_type": "code",
   "execution_count": 29,
   "metadata": {},
   "outputs": [
    {
     "data": {
      "image/png": "[encoded data removed]",
      "text/plain": [
       "<Figure size 432x288 with 1 Axes>"
      ]
     },
     "metadata": {
      "needs_background": "light"
     },
     "output_type": "display_data"
    }
   ],
   "source": [
    "# summarize history for loss\n",
    "plt.plot(history.history['loss'])\n",
    "plt.plot(history.history['val_loss'])\n",
    "plt.title('model loss')\n",
    "plt.ylabel('loss')\n",
    "plt.xlabel('epoch')\n",
    "plt.legend(['train', 'test'], loc='upper left')\n",
    "plt.show()"
   ]
  },
  {
   "cell_type": "code",
   "execution_count": 30,
   "metadata": {},
   "outputs": [
    {
     "name": "stdout",
     "output_type": "stream",
     "text": [
      "Model evaluation time on training data 0:04:13.736722\n",
      "Model evaluation time on testing data 0:01:10.180504\n",
      "Training Loss: 0.341, Testing loss: 0.344\n",
      "Train: 0.842, Test: 0.840\n"
     ]
    }
   ],
   "source": [
    "# evaluate the model\n",
    "before_train_evaluation = datetime.datetime.now()\n",
    "train_loss, train_acc = model.evaluate(X_train, y_train, verbose=0)\n",
    "after_train_evaluation = datetime.datetime.now()\n",
    "delta_train_evaluation = after_train_evaluation - before_train_evaluation\n",
    "print(\"Model evaluation time on training data\", delta_train_evaluation)\n",
    "\n",
    "before_test_evaluation = datetime.datetime.now()\n",
    "test_loss, test_acc = model.evaluate(X_test, y_test, verbose=0)\n",
    "after_test_evaluation = datetime.datetime.now()\n",
    "delta_test_evaluation = after_test_evaluation - before_test_evaluation\n",
    "print(\"Model evaluation time on testing data\", delta_test_evaluation)\n",
    "\n",
    "print('Training Loss: %.3f, Testing loss: %.3f' % (train_loss, test_loss) )\n",
    "print('Train: %.3f, Test: %.3f' % (train_acc, test_acc))"
   ]
  },
  {
   "cell_type": "code",
   "execution_count": null,
   "metadata": {},
   "outputs": [],
   "source": [
    "plt.plot(history.history['loss'], label='training_loss')\n",
    "plt.plot(history.history['val_loss'], label='validation_loss')\n",
    "plt.legend()\n",
    "plt.show()"
   ]
  },
  {
   "cell_type": "code",
   "execution_count": 31,
   "metadata": {},
   "outputs": [],
   "source": [
    "# Saving the model and loading the saved model\n",
    "\n",
    "model.save('../diagram/New_GRU_PCA.h5')\n",
    "\n",
    "# model.save('../saved_models/full_model_GRU_with_pca.h5')\n",
    "#model = keras.models.load_model('../saved_models/gru_new.h5')"
   ]
  },
  {
   "cell_type": "code",
   "execution_count": 32,
   "metadata": {},
   "outputs": [
    {
     "data": {
      "text/plain": [
       "92886"
      ]
     },
     "execution_count": 32,
     "metadata": {},
     "output_type": "execute_result"
    }
   ],
   "source": [
    "import gc\n",
    "gc.collect()"
   ]
  },
  {
   "cell_type": "code",
   "execution_count": 7,
   "metadata": {},
   "outputs": [],
   "source": [
    "def predict(text_x):\n",
    "    x = np.zeros((1, maxlen), dtype=np.int)\n",
    "    offset = max(maxlen - len(text_x), 0)\n",
    "    for t, char in enumerate(text_x):\n",
    "        if t >= maxlen:\n",
    "            break\n",
    "        x[0, t + offset] = word_index[char]\n",
    "    pred = model.predict(x)\n",
    "    return pred[0][0]\n",
    "\n",
    "\n",
    "# Like predict, but you pass in an array of URLs, and it is all\n",
    "# vectorized in one step, making it more efficient\n",
    "def predicts(text_X):\n",
    "    X = np.zeros((len(text_X), maxlen), dtype=np.int)\n",
    "    for i in range(len(text_X)):\n",
    "        offset = max(maxlen - len(text_X[i]), 0)\n",
    "        for t, char in enumerate(text_X[i]):\n",
    "            if t >= maxlen:\n",
    "                break\n",
    "            X[i, t + offset] = word_index[char]\n",
    "    preds = [pred[0] for pred in model.predict(X)]\n",
    "    return preds"
   ]
  },
  {
   "cell_type": "code",
   "execution_count": null,
   "metadata": {},
   "outputs": [],
   "source": [
    "import timeit\n",
    "\n",
    "start = timeit.default_timer()\n",
    "pre = predict(positives[0])\n",
    "end = timeit.default_timer()\n",
    "print(\"Prediction time\", (end - start))"
   ]
  },
  {
   "cell_type": "code",
   "execution_count": 34,
   "metadata": {},
   "outputs": [
    {
     "name": "stdout",
     "output_type": "stream",
     "text": [
      "0.1787137417531643 false negatives for positives set.\n",
      "0.13238350744195726 false positive rate for negative train.\n",
      "0.13181194402067528 false positive rate for negative dev.\n",
      "0.13268966862413184 false positive rate for negative test.\n"
     ]
    }
   ],
   "source": [
    "# Model Evaluation\n",
    "# define a threshold value so that values below threshold will be classified as false_positive\n",
    "threshold = 0.5\n",
    "\n",
    "def evaluate_model(positives, negatives_train, negatives_dev, negatives_test, threshold):\n",
    "    false_negatives = 0.0\n",
    "    preds = predicts(positives)\n",
    "    for pred in preds:\n",
    "        if pred <= threshold:\n",
    "            false_negatives += 1\n",
    "    print(false_negatives / len(positives), \"false negatives for positives set.\")\n",
    "\n",
    "    false_positives_train = 0.0\n",
    "    preds = predicts(negatives_train)\n",
    "    for pred in preds:\n",
    "        if pred > threshold:\n",
    "            false_positives_train += 1\n",
    "\n",
    "    false_positives_dev = 0.0\n",
    "    preds = predicts(negatives_dev)\n",
    "    for pred in preds:\n",
    "        if pred > threshold:\n",
    "            false_positives_dev += 1\n",
    "\n",
    "    false_positives_test = 0.0\n",
    "    preds = predicts(negatives_test)\n",
    "    for pred in preds:\n",
    "        if pred > threshold:\n",
    "            false_positives_test += 1\n",
    "\n",
    "    print(false_positives_train / len(negatives_train), \"false positive rate for negative train.\")\n",
    "    print(false_positives_dev / len(negatives_dev), \"false positive rate for negative dev.\")\n",
    "    print(false_positives_test / len(negatives_test), \"false positive rate for negative test.\")\n",
    "\n",
    "evaluate_model(positives, negatives_train, negatives_dev, negatives_test, threshold)"
   ]
  },
  {
   "cell_type": "code",
   "execution_count": 35,
   "metadata": {},
   "outputs": [
    {
     "name": "stdout",
     "output_type": "stream",
     "text": [
      "Getting threshold for fp_rate 0.01\n",
      "Using threshold 0.9418243\n",
      "0.47041667728467024 false negatives for positives set.\n",
      "0.009601008689322121 false positive rate for negative train.\n",
      "0.009989341915529457 false positive rate for negative dev.\n",
      "0.009710699184273404 false positive rate for negative test.\n"
     ]
    }
   ],
   "source": [
    "# Getting predictions on negative_dev set to find a suitable threshold value.\n",
    "\n",
    "# defining the false positive rate which we can change.\n",
    "fp_rate = 0.01\n",
    "\n",
    "print(\"Getting threshold for fp_rate\", fp_rate)\n",
    "preds = predicts(negatives_dev)\n",
    "preds.sort()\n",
    "fp_index = math.ceil((len(negatives_dev) * (1 - fp_rate)))\n",
    "threshold = preds[fp_index]\n",
    "\n",
    "print(\"Using threshold\", threshold) \n",
    "\n",
    "evaluate_model(positives, negatives_train, negatives_dev, negatives_test, threshold)"
   ]
  },
  {
   "cell_type": "markdown",
   "metadata": {},
   "source": [
    "### Bloom Filter "
   ]
  },
  {
   "cell_type": "code",
   "execution_count": 8,
   "metadata": {},
   "outputs": [],
   "source": [
    "##  Adapted from https://www.geeksforgeeks.org/bloom-filters-introduction-and-python-implementation/ \n",
    "\n",
    "import math \n",
    "import mmh3 \n",
    "from bitarray import bitarray \n",
    "\n",
    "class BloomFilter(object): \n",
    "\n",
    "    ''' \n",
    "    Class for Bloom filter, using murmur3 hash function \n",
    "    '''\n",
    "\n",
    "    def __init__(self, items_count,fp_prob): \n",
    "        ''' \n",
    "        items_count : int \n",
    "            Number of items expected to be stored in bloom filter \n",
    "        fp_prob : float \n",
    "            False Positive probability in decimal \n",
    "        '''\n",
    "        # False posible probability in decimal \n",
    "        self.fp_prob = fp_prob \n",
    "\n",
    "        # Size of bit array to use \n",
    "        self.size = self.get_size(items_count,fp_prob) \n",
    "\n",
    "        # number of hash functions to use \n",
    "        self.hash_count = self.get_hash_count(self.size,items_count) \n",
    "\n",
    "        # Bit array of given size \n",
    "        self.bit_array = bitarray(self.size) \n",
    "        \n",
    "        # Return the size of bitarray in bytes\n",
    "        self.byte_size = self.bit_array.length()\n",
    "\n",
    "        # initialize all bits as 0 \n",
    "        self.bit_array.setall(0) \n",
    "\n",
    "    def add(self, item): \n",
    "        ''' \n",
    "        Add an item in the filter \n",
    "        '''\n",
    "        digests = [] \n",
    "        for i in range(self.hash_count): \n",
    "\n",
    "            # create digest for given item. \n",
    "            # i work as seed to mmh3.hash() function \n",
    "            # With different seed, digest created is different \n",
    "            digest = mmh3.hash(item,i) % self.size \n",
    "            digests.append(digest) \n",
    "\n",
    "            # set the bit True in bit_array \n",
    "            self.bit_array[digest] = True\n",
    "\n",
    "    def check(self, item): \n",
    "        ''' \n",
    "        Check for existence of an item in filter \n",
    "        '''\n",
    "        for i in range(self.hash_count): \n",
    "            digest = mmh3.hash(item,i) % self.size \n",
    "            if self.bit_array[digest] == False: \n",
    "\n",
    "                # if any of bit is False then,its not present \n",
    "                # in filter \n",
    "                # else there is probability that it exist \n",
    "                return False\n",
    "        return True\n",
    "\n",
    "    @classmethod\n",
    "    def get_size(self,n,p): \n",
    "        ''' \n",
    "        Return the size of bit array(m) to used using \n",
    "        following formula \n",
    "        m = -(n * lg(p)) / (lg(2)^2) \n",
    "        n : int \n",
    "            number of items expected to be stored in filter \n",
    "        p : float \n",
    "            False Positive probability in decimal \n",
    "        '''\n",
    "        m = -(n * math.log(p))/(math.log(2)**2) \n",
    "        return int(m)\n",
    "    \n",
    "    @classmethod\n",
    "    def get_hash_count(self, m, n): \n",
    "        ''' \n",
    "        Return the hash function(k) to be used using \n",
    "        following formula \n",
    "        k = (m/n) * lg(2) \n",
    "\n",
    "        m : int \n",
    "\t\t\tsize of bit array \n",
    "\t\tn : int \n",
    "\t\t\tnumber of items expected to be stored in filter \n",
    "\t\t'''\n",
    "        k = (m/n) * math.log(2) \n",
    "        return int(k) \n"
   ]
  },
  {
   "cell_type": "markdown",
   "metadata": {},
   "source": [
    "### Defining Deep Bloom Model"
   ]
  },
  {
   "cell_type": "code",
   "execution_count": 9,
   "metadata": {
    "scrolled": true
   },
   "outputs": [
    {
     "name": "stdout",
     "output_type": "stream",
     "text": [
      "Getting threshold for fp_rate 0.01\n",
      "The threhold value to use is: 0.9733697\n"
     ]
    }
   ],
   "source": [
    "# Defining the threshold value\n",
    "fp_rate = 0.01\n",
    "print(\"Getting threshold for fp_rate\", fp_rate)\n",
    "preds = predicts(negatives_dev)\n",
    "preds.sort()\n",
    "fp_index = math.ceil((len(negatives_dev) * (1 - fp_rate/2)))\n",
    "threshold = preds[fp_index]\n",
    "print(\"The threhold value to use is:\", threshold)"
   ]
  },
  {
   "cell_type": "code",
   "execution_count": 10,
   "metadata": {
    "scrolled": true
   },
   "outputs": [
    {
     "name": "stdout",
     "output_type": "stream",
     "text": [
      "Creating bloom filter\n",
      "Number of false negatives at bloom time 686033\n",
      "Created bloom filter\n"
     ]
    }
   ],
   "source": [
    "def create_bloom_filter(data):\n",
    "    print(\"Creating bloom filter\")\n",
    "    false_negatives = []\n",
    "    # calling the predicts function \n",
    "    preds = predicts(data)\n",
    "    for i in range(len(data)):\n",
    "        if preds[i] <= threshold:\n",
    "            false_negatives.append(data[i])\n",
    "    print(\"Number of false negatives at bloom time\", len(false_negatives))\n",
    "    bloom_filter = BloomFilter(len(false_negatives), fp_rate / 2)\n",
    "    for fn in false_negatives:\n",
    "        bloom_filter.add(fn)\n",
    "    print(\"Created bloom filter\")\n",
    "    return bloom_filter\n",
    "\n",
    "bloom_filter = create_bloom_filter(positives)"
   ]
  },
  {
   "cell_type": "code",
   "execution_count": 11,
   "metadata": {},
   "outputs": [],
   "source": [
    "# Function to predict the output from the machine learning model\n",
    "def predict(text_x):\n",
    "    x = np.zeros((1, maxlen), dtype=np.int)\n",
    "    offset = max(maxlen - len(text_x), 0)\n",
    "    for t, char in enumerate(text_x):\n",
    "        if t >= maxlen:\n",
    "            break\n",
    "        x[0, t + offset] = word_index[char]\n",
    "    pred = model.predict(x)\n",
    "    return pred[0][0]\n",
    "\n",
    "\n",
    "def check_item(item):\n",
    "    if predict(item) > threshold:\n",
    "        return True\n",
    "    return bloom_filter.check(item)"
   ]
  },
  {
   "cell_type": "markdown",
   "metadata": {},
   "source": [
    "#### Test Deep Bloom Model"
   ]
  },
  {
   "cell_type": "code",
   "execution_count": 12,
   "metadata": {},
   "outputs": [
    {
     "name": "stdout",
     "output_type": "stream",
     "text": [
      "Bloom filter bits needed 7565402\n",
      "Bloom fiter size in bytes 945675.25\n",
      "Hash functions needed 7\n",
      "143553\n"
     ]
    },
    {
     "ename": "KeyboardInterrupt",
     "evalue": "",
     "output_type": "error",
     "traceback": [
      "\u001b[0;31m---------------------------------------------------------------------------\u001b[0m",
      "\u001b[0;31mKeyboardInterrupt\u001b[0m                         Traceback (most recent call last)",
      "\u001b[0;32m<ipython-input-12-c908cab5cac1>\u001b[0m in \u001b[0;36m<module>\u001b[0;34m\u001b[0m\n\u001b[1;32m      6\u001b[0m \u001b[0mprint\u001b[0m\u001b[0;34m(\u001b[0m\u001b[0mlen\u001b[0m\u001b[0;34m(\u001b[0m\u001b[0mnegatives_test\u001b[0m\u001b[0;34m)\u001b[0m\u001b[0;34m)\u001b[0m\u001b[0;34m\u001b[0m\u001b[0;34m\u001b[0m\u001b[0m\n\u001b[1;32m      7\u001b[0m \u001b[0;32mfor\u001b[0m \u001b[0mneg\u001b[0m \u001b[0;32min\u001b[0m \u001b[0mnegatives_test\u001b[0m\u001b[0;34m:\u001b[0m\u001b[0;34m\u001b[0m\u001b[0;34m\u001b[0m\u001b[0m\n\u001b[0;32m----> 8\u001b[0;31m     \u001b[0;32mif\u001b[0m \u001b[0mcheck_item\u001b[0m\u001b[0;34m(\u001b[0m\u001b[0mneg\u001b[0m\u001b[0;34m)\u001b[0m\u001b[0;34m:\u001b[0m\u001b[0;34m\u001b[0m\u001b[0;34m\u001b[0m\u001b[0m\n\u001b[0m\u001b[1;32m      9\u001b[0m         \u001b[0mfalse_positives\u001b[0m \u001b[0;34m+=\u001b[0m \u001b[0;36m1\u001b[0m\u001b[0;34m\u001b[0m\u001b[0;34m\u001b[0m\u001b[0m\n\u001b[1;32m     10\u001b[0m \u001b[0mprint\u001b[0m\u001b[0;34m(\u001b[0m\u001b[0;34m\"Test false positive rate: \"\u001b[0m\u001b[0;34m,\u001b[0m \u001b[0mstr\u001b[0m\u001b[0;34m(\u001b[0m\u001b[0mfalse_positives\u001b[0m \u001b[0;34m/\u001b[0m \u001b[0mlen\u001b[0m\u001b[0;34m(\u001b[0m\u001b[0mnegatives_test\u001b[0m\u001b[0;34m)\u001b[0m\u001b[0;34m)\u001b[0m\u001b[0;34m)\u001b[0m\u001b[0;34m\u001b[0m\u001b[0;34m\u001b[0m\u001b[0m\n",
      "\u001b[0;32m<ipython-input-11-518f3c63a388>\u001b[0m in \u001b[0;36mcheck_item\u001b[0;34m(item)\u001b[0m\n\u001b[1;32m     12\u001b[0m \u001b[0;34m\u001b[0m\u001b[0m\n\u001b[1;32m     13\u001b[0m \u001b[0;32mdef\u001b[0m \u001b[0mcheck_item\u001b[0m\u001b[0;34m(\u001b[0m\u001b[0mitem\u001b[0m\u001b[0;34m)\u001b[0m\u001b[0;34m:\u001b[0m\u001b[0;34m\u001b[0m\u001b[0;34m\u001b[0m\u001b[0m\n\u001b[0;32m---> 14\u001b[0;31m     \u001b[0;32mif\u001b[0m \u001b[0mpredict\u001b[0m\u001b[0;34m(\u001b[0m\u001b[0mitem\u001b[0m\u001b[0;34m)\u001b[0m \u001b[0;34m>\u001b[0m \u001b[0mthreshold\u001b[0m\u001b[0;34m:\u001b[0m\u001b[0;34m\u001b[0m\u001b[0;34m\u001b[0m\u001b[0m\n\u001b[0m\u001b[1;32m     15\u001b[0m         \u001b[0;32mreturn\u001b[0m \u001b[0;32mTrue\u001b[0m\u001b[0;34m\u001b[0m\u001b[0;34m\u001b[0m\u001b[0m\n\u001b[1;32m     16\u001b[0m     \u001b[0;32mreturn\u001b[0m \u001b[0mbloom_filter\u001b[0m\u001b[0;34m.\u001b[0m\u001b[0mcheck\u001b[0m\u001b[0;34m(\u001b[0m\u001b[0mitem\u001b[0m\u001b[0;34m)\u001b[0m\u001b[0;34m\u001b[0m\u001b[0;34m\u001b[0m\u001b[0m\n",
      "\u001b[0;32m<ipython-input-11-518f3c63a388>\u001b[0m in \u001b[0;36mpredict\u001b[0;34m(text_x)\u001b[0m\n\u001b[1;32m      7\u001b[0m             \u001b[0;32mbreak\u001b[0m\u001b[0;34m\u001b[0m\u001b[0;34m\u001b[0m\u001b[0m\n\u001b[1;32m      8\u001b[0m         \u001b[0mx\u001b[0m\u001b[0;34m[\u001b[0m\u001b[0;36m0\u001b[0m\u001b[0;34m,\u001b[0m \u001b[0mt\u001b[0m \u001b[0;34m+\u001b[0m \u001b[0moffset\u001b[0m\u001b[0;34m]\u001b[0m \u001b[0;34m=\u001b[0m \u001b[0mword_index\u001b[0m\u001b[0;34m[\u001b[0m\u001b[0mchar\u001b[0m\u001b[0;34m]\u001b[0m\u001b[0;34m\u001b[0m\u001b[0;34m\u001b[0m\u001b[0m\n\u001b[0;32m----> 9\u001b[0;31m     \u001b[0mpred\u001b[0m \u001b[0;34m=\u001b[0m \u001b[0mmodel\u001b[0m\u001b[0;34m.\u001b[0m\u001b[0mpredict\u001b[0m\u001b[0;34m(\u001b[0m\u001b[0mx\u001b[0m\u001b[0;34m)\u001b[0m\u001b[0;34m\u001b[0m\u001b[0;34m\u001b[0m\u001b[0m\n\u001b[0m\u001b[1;32m     10\u001b[0m     \u001b[0;32mreturn\u001b[0m \u001b[0mpred\u001b[0m\u001b[0;34m[\u001b[0m\u001b[0;36m0\u001b[0m\u001b[0;34m]\u001b[0m\u001b[0;34m[\u001b[0m\u001b[0;36m0\u001b[0m\u001b[0;34m]\u001b[0m\u001b[0;34m\u001b[0m\u001b[0;34m\u001b[0m\u001b[0m\n\u001b[1;32m     11\u001b[0m \u001b[0;34m\u001b[0m\u001b[0m\n",
      "\u001b[0;32m/research_data/anaconda3/lib/python3.7/site-packages/tensorflow/python/keras/engine/training.py\u001b[0m in \u001b[0;36m_method_wrapper\u001b[0;34m(self, *args, **kwargs)\u001b[0m\n\u001b[1;32m     86\u001b[0m       raise ValueError('{} is not supported in multi-worker mode.'.format(\n\u001b[1;32m     87\u001b[0m           method.__name__))\n\u001b[0;32m---> 88\u001b[0;31m     \u001b[0;32mreturn\u001b[0m \u001b[0mmethod\u001b[0m\u001b[0;34m(\u001b[0m\u001b[0mself\u001b[0m\u001b[0;34m,\u001b[0m \u001b[0;34m*\u001b[0m\u001b[0margs\u001b[0m\u001b[0;34m,\u001b[0m \u001b[0;34m**\u001b[0m\u001b[0mkwargs\u001b[0m\u001b[0;34m)\u001b[0m\u001b[0;34m\u001b[0m\u001b[0;34m\u001b[0m\u001b[0m\n\u001b[0m\u001b[1;32m     89\u001b[0m \u001b[0;34m\u001b[0m\u001b[0m\n\u001b[1;32m     90\u001b[0m   return tf_decorator.make_decorator(\n",
      "\u001b[0;31mKeyboardInterrupt\u001b[0m: "
     ]
    }
   ],
   "source": [
    "print(\"Bloom filter bits needed\", bloom_filter.size)\n",
    "print(\"Bloom fiter size in bytes\", (bloom_filter.byte_size)/8)\n",
    "print(\"Hash functions needed\", bloom_filter.hash_count)\n",
    "    \n",
    "false_positives = 0.0\n",
    "print(len(negatives_test))\n",
    "for neg in negatives_test:\n",
    "    if check_item(neg):\n",
    "        false_positives += 1\n",
    "print(\"Test false positive rate: \", str(false_positives / len(negatives_test)))"
   ]
  },
  {
   "cell_type": "code",
   "execution_count": null,
   "metadata": {},
   "outputs": [],
   "source": []
  }
 ],
 "metadata": {
  "kernelspec": {
   "display_name": "Python 3",
   "language": "python",
   "name": "python3"
  },
  "language_info": {
   "codemirror_mode": {
    "name": "ipython",
    "version": 3
   },
   "file_extension": ".py",
   "mimetype": "text/x-python",
   "name": "python",
   "nbconvert_exporter": "python",
   "pygments_lexer": "ipython3",
   "version": "3.7.3"
  }
 },
 "nbformat": 4,
 "nbformat_minor": 2
}
